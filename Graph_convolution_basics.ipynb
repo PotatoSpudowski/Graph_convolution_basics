{
  "nbformat": 4,
  "nbformat_minor": 0,
  "metadata": {
    "colab": {
      "name": "Graph_convolution_basics.ipynb",
      "provenance": [],
      "authorship_tag": "ABX9TyNQgPE6jFOXOwIV+eOhbZaf",
      "include_colab_link": true
    },
    "kernelspec": {
      "name": "python3",
      "display_name": "Python 3"
    }
  },
  "cells": [
    {
      "cell_type": "markdown",
      "metadata": {
        "id": "view-in-github",
        "colab_type": "text"
      },
      "source": [
        "<a href=\"https://colab.research.google.com/github/PotatoSpudowski/Graph_convolution_basics/blob/master/Graph_convolution_basics.ipynb\" target=\"_parent\"><img src=\"https://colab.research.google.com/assets/colab-badge.svg\" alt=\"Open In Colab\"/></a>"
      ]
    },
    {
      "cell_type": "code",
      "metadata": {
        "id": "Fj6MWR526gt4",
        "colab_type": "code",
        "colab": {}
      },
      "source": [
        "import numpy as np\n",
        "import networkx as nx"
      ],
      "execution_count": 0,
      "outputs": []
    },
    {
      "cell_type": "code",
      "metadata": {
        "id": "KqgXpnHXY_sD",
        "colab_type": "code",
        "colab": {}
      },
      "source": [
        "A = np.matrix([\n",
        "    [0, 1, 0, 0],\n",
        "    [0, 0, 1, 1], \n",
        "    [0, 1, 0, 0],\n",
        "    [1, 0, 0, 0]],\n",
        "    dtype=float\n",
        ")\n",
        " \n",
        "G = nx.from_numpy_matrix(A) "
      ],
      "execution_count": 0,
      "outputs": []
    },
    {
      "cell_type": "code",
      "metadata": {
        "id": "EBVXhQjuZQef",
        "colab_type": "code",
        "outputId": "5f841bef-9389-46e9-c4eb-dcf7ee0787e9",
        "colab": {
          "base_uri": "https://localhost:8080/",
          "height": 319
        }
      },
      "source": [
        "nx.draw(G, with_labels=True)"
      ],
      "execution_count": 34,
      "outputs": [
        {
          "output_type": "display_data",
          "data": {
            "image/png": "[encoded data removed]",
            "text/plain": [
              "<Figure size 432x288 with 1 Axes>"
            ]
          },
          "metadata": {
            "tags": []
          }
        }
      ]
    },
    {
      "cell_type": "code",
      "metadata": {
        "id": "uMnERhbwdONI",
        "colab_type": "code",
        "outputId": "9efef24e-ed02-495d-d34a-915a8fb02066",
        "colab": {
          "base_uri": "https://localhost:8080/",
          "height": 85
        }
      },
      "source": [
        "a = [1,0]\n",
        "b = [0,1]\n",
        "\n",
        "X = np.matrix([a,b,a,b]) #features \n",
        "X"
      ],
      "execution_count": 4,
      "outputs": [
        {
          "output_type": "execute_result",
          "data": {
            "text/plain": [
              "matrix([[1, 0],\n",
              "        [0, 1],\n",
              "        [1, 0],\n",
              "        [0, 1]])"
            ]
          },
          "metadata": {
            "tags": []
          },
          "execution_count": 4
        }
      ]
    },
    {
      "cell_type": "markdown",
      "metadata": {
        "id": "5xrjMX5BIoWX",
        "colab_type": "text"
      },
      "source": [
        "###Propogation rule"
      ]
    },
    {
      "cell_type": "code",
      "metadata": {
        "id": "qRWAAJdLfBWb",
        "colab_type": "code",
        "outputId": "a701e5cb-2ac5-4e34-cf6f-9e077e675057",
        "colab": {
          "base_uri": "https://localhost:8080/",
          "height": 85
        }
      },
      "source": [
        "A @ X"
      ],
      "execution_count": 5,
      "outputs": [
        {
          "output_type": "execute_result",
          "data": {
            "text/plain": [
              "matrix([[0., 1.],\n",
              "        [1., 1.],\n",
              "        [0., 1.],\n",
              "        [1., 0.]])"
            ]
          },
          "metadata": {
            "tags": []
          },
          "execution_count": 5
        }
      ]
    },
    {
      "cell_type": "code",
      "metadata": {
        "id": "WcYZjKIZf1fO",
        "colab_type": "code",
        "colab": {}
      },
      "source": [
        "#  a b\n",
        "#a 0 1   a is connected to 0 a and 1 b (Node 0) \n",
        "#b 1 1   b is connected to 1 a and 1 b (Node 1)\n",
        "#a 0 1   a is connected to 0 a and 1 b (Node 2)\n",
        "#b 1 0   b is connected to 1 a and 0 b (Node 3)\n",
        "\n",
        "#The aggregated representation of a node does not include its own features!"
      ],
      "execution_count": 0,
      "outputs": []
    },
    {
      "cell_type": "code",
      "metadata": {
        "id": "ArLNlta7jAre",
        "colab_type": "code",
        "colab": {
          "base_uri": "https://localhost:8080/",
          "height": 85
        },
        "outputId": "981a4830-e1d7-4aad-d4f1-771c7dcf9e99"
      },
      "source": [
        "I = np.matrix(np.eye(A.shape[0]))\n",
        "I"
      ],
      "execution_count": 8,
      "outputs": [
        {
          "output_type": "execute_result",
          "data": {
            "text/plain": [
              "matrix([[1., 0., 0., 0.],\n",
              "        [0., 1., 0., 0.],\n",
              "        [0., 0., 1., 0.],\n",
              "        [0., 0., 0., 1.]])"
            ]
          },
          "metadata": {
            "tags": []
          },
          "execution_count": 8
        }
      ]
    },
    {
      "cell_type": "code",
      "metadata": {
        "id": "UM_U0A467cLz",
        "colab_type": "code",
        "colab": {
          "base_uri": "https://localhost:8080/",
          "height": 85
        },
        "outputId": "74958534-6c15-4235-d718-c1e2c2c13986"
      },
      "source": [
        "A_hat = A + I\n",
        "A_hat"
      ],
      "execution_count": 9,
      "outputs": [
        {
          "output_type": "execute_result",
          "data": {
            "text/plain": [
              "matrix([[1., 1., 0., 0.],\n",
              "        [0., 1., 1., 1.],\n",
              "        [0., 1., 1., 0.],\n",
              "        [1., 0., 0., 1.]])"
            ]
          },
          "metadata": {
            "tags": []
          },
          "execution_count": 9
        }
      ]
    },
    {
      "cell_type": "code",
      "metadata": {
        "id": "lQAgzMan79mP",
        "colab_type": "code",
        "colab": {
          "base_uri": "https://localhost:8080/",
          "height": 85
        },
        "outputId": "6f361033-3517-4140-c6e6-d0d1ac738753"
      },
      "source": [
        "A_hat @ X"
      ],
      "execution_count": 10,
      "outputs": [
        {
          "output_type": "execute_result",
          "data": {
            "text/plain": [
              "matrix([[1., 1.],\n",
              "        [1., 2.],\n",
              "        [1., 1.],\n",
              "        [1., 1.]])"
            ]
          },
          "metadata": {
            "tags": []
          },
          "execution_count": 10
        }
      ]
    },
    {
      "cell_type": "code",
      "metadata": {
        "id": "GZnm1hR-8HVS",
        "colab_type": "code",
        "colab": {}
      },
      "source": [
        "#  a b\n",
        "#a 1 1   a is connected to 1 a and 1 b (Node 0) \n",
        "#b 1 2   b is connected to 1 a and 2 b (Node 1)\n",
        "#a 1 1   a is connected to 1 a and 1 b (Node 2)\n",
        "#b 1 1   b is connected to 1 a and 1 b (Node 3)\n",
        "\n",
        "#The aggregated representation of a node does include its own features!"
      ],
      "execution_count": 0,
      "outputs": []
    },
    {
      "cell_type": "code",
      "metadata": {
        "id": "YCSjQPlBA3vO",
        "colab_type": "code",
        "colab": {}
      },
      "source": [
        "#Now when we trying to normalize we get"
      ],
      "execution_count": 0,
      "outputs": []
    },
    {
      "cell_type": "code",
      "metadata": {
        "id": "HvwvyPPM8rt1",
        "colab_type": "code",
        "colab": {
          "base_uri": "https://localhost:8080/",
          "height": 85
        },
        "outputId": "ebacaea7-7c3c-4808-e38b-8d97837299c2"
      },
      "source": [
        "D_hat = np.array(np.sum(A_hat, axis=0))[0]\n",
        "D_hat = np.matrix(np.diag(D_hat))\n",
        "D_hat"
      ],
      "execution_count": 12,
      "outputs": [
        {
          "output_type": "execute_result",
          "data": {
            "text/plain": [
              "matrix([[2., 0., 0., 0.],\n",
              "        [0., 3., 0., 0.],\n",
              "        [0., 0., 2., 0.],\n",
              "        [0., 0., 0., 2.]])"
            ]
          },
          "metadata": {
            "tags": []
          },
          "execution_count": 12
        }
      ]
    },
    {
      "cell_type": "code",
      "metadata": {
        "id": "jdKOvvmoAlVp",
        "colab_type": "code",
        "colab": {
          "base_uri": "https://localhost:8080/",
          "height": 85
        },
        "outputId": "ba3bcc9f-014e-4d8e-c1d0-a868e8e182b6"
      },
      "source": [
        "D_hat**-1 @ A_hat @ X"
      ],
      "execution_count": 13,
      "outputs": [
        {
          "output_type": "execute_result",
          "data": {
            "text/plain": [
              "matrix([[0.5       , 0.5       ],\n",
              "        [0.33333333, 0.66666667],\n",
              "        [0.5       , 0.5       ],\n",
              "        [0.5       , 0.5       ]])"
            ]
          },
          "metadata": {
            "tags": []
          },
          "execution_count": 13
        }
      ]
    },
    {
      "cell_type": "code",
      "metadata": {
        "id": "0Z-dbALmBJum",
        "colab_type": "code",
        "colab": {}
      },
      "source": [
        "#The matrix,\n",
        "#matrix([[1., 1.],\n",
        "        # [1., 2.],\n",
        "        # [1., 1.],\n",
        "        # [1., 1.]])\n",
        "# is normalized to\n",
        "#matrix([[0.5       , 0.5       ],\n",
        "        # [0.33333333, 0.66666667],\n",
        "        # [0.5       , 0.5       ],\n",
        "        # [0.5       , 0.5       ]])"
      ],
      "execution_count": 0,
      "outputs": []
    },
    {
      "cell_type": "markdown",
      "metadata": {
        "id": "PaNa7xiWIJuh",
        "colab_type": "text"
      },
      "source": [
        "###A better way to normalize"
      ]
    },
    {
      "cell_type": "code",
      "metadata": {
        "id": "r5gs8qn6Bj5L",
        "colab_type": "code",
        "colab": {
          "base_uri": "https://localhost:8080/",
          "height": 85
        },
        "outputId": "2fa4aa57-b3f7-40ff-9593-409db80a66e1"
      },
      "source": [
        "D_hat_inv = np.sqrt(D_hat**-1)\n",
        "H = D_hat_inv @ A_hat @ D_hat_inv @ X\n",
        "H"
      ],
      "execution_count": 23,
      "outputs": [
        {
          "output_type": "execute_result",
          "data": {
            "text/plain": [
              "matrix([[0.5       , 0.40824829],\n",
              "        [0.40824829, 0.74158162],\n",
              "        [0.5       , 0.40824829],\n",
              "        [0.5       , 0.5       ]])"
            ]
          },
          "metadata": {
            "tags": []
          },
          "execution_count": 23
        }
      ]
    },
    {
      "cell_type": "markdown",
      "metadata": {
        "id": "Z_jzkJXPIQXj",
        "colab_type": "text"
      },
      "source": [
        "###Assigning weights"
      ]
    },
    {
      "cell_type": "code",
      "metadata": {
        "id": "R2SGO_KbEpZJ",
        "colab_type": "code",
        "colab": {
          "base_uri": "https://localhost:8080/",
          "height": 51
        },
        "outputId": "dc0beb27-fa4b-459c-e31a-811bc627ecf3"
      },
      "source": [
        "#Weights\n",
        "np.random.seed(0)\n",
        "W = 2*np.random.rand(2,5) - 1\n",
        "W = np.matrix(W)\n",
        "W"
      ],
      "execution_count": 21,
      "outputs": [
        {
          "output_type": "execute_result",
          "data": {
            "text/plain": [
              "matrix([[ 0.09762701,  0.43037873,  0.20552675,  0.08976637, -0.1526904 ],\n",
              "        [ 0.29178823, -0.12482558,  0.783546  ,  0.92732552, -0.23311696]])"
            ]
          },
          "metadata": {
            "tags": []
          },
          "execution_count": 21
        }
      ]
    },
    {
      "cell_type": "markdown",
      "metadata": {
        "id": "BLPJQeoJIZRY",
        "colab_type": "text"
      },
      "source": [
        "###Finding the output of the hiiden layer"
      ]
    },
    {
      "cell_type": "code",
      "metadata": {
        "id": "M82J_NqTC7-T",
        "colab_type": "code",
        "colab": {
          "base_uri": "https://localhost:8080/",
          "height": 85
        },
        "outputId": "fda174cf-3dc8-401e-a44e-77af44ed54f9"
      },
      "source": [
        "Z = H @ W\n",
        "Z"
      ],
      "execution_count": 24,
      "outputs": [
        {
          "output_type": "execute_result",
          "data": {
            "text/plain": [
              "matrix([[ 0.16793555,  0.16422954,  0.42264469,  0.42346224, -0.1715148 ],\n",
              "        [ 0.25624085,  0.08313303,  0.66496926,  0.72433453, -0.23521085],\n",
              "        [ 0.16793555,  0.16422954,  0.42264469,  0.42346224, -0.1715148 ],\n",
              "        [ 0.19470762,  0.15277658,  0.49453638,  0.50854594, -0.19290368]])"
            ]
          },
          "metadata": {
            "tags": []
          },
          "execution_count": 24
        }
      ]
    },
    {
      "cell_type": "markdown",
      "metadata": {
        "id": "Gfe2nl2yIhDr",
        "colab_type": "text"
      },
      "source": [
        "###Now let's pass it through an activation function."
      ]
    },
    {
      "cell_type": "code",
      "metadata": {
        "id": "8Wva6o-0G4e2",
        "colab_type": "code",
        "colab": {}
      },
      "source": [
        "#Activation function\n",
        "def relu(x):\n",
        "    return np.maximum(0,x)"
      ],
      "execution_count": 0,
      "outputs": []
    },
    {
      "cell_type": "code",
      "metadata": {
        "id": "AYmtSCInHJbN",
        "colab_type": "code",
        "colab": {
          "base_uri": "https://localhost:8080/",
          "height": 85
        },
        "outputId": "a0b821c7-501b-4c55-b7d9-cf1c89432a7b"
      },
      "source": [
        "relu(Z)"
      ],
      "execution_count": 26,
      "outputs": [
        {
          "output_type": "execute_result",
          "data": {
            "text/plain": [
              "matrix([[0.16793555, 0.16422954, 0.42264469, 0.42346224, 0.        ],\n",
              "        [0.25624085, 0.08313303, 0.66496926, 0.72433453, 0.        ],\n",
              "        [0.16793555, 0.16422954, 0.42264469, 0.42346224, 0.        ],\n",
              "        [0.19470762, 0.15277658, 0.49453638, 0.50854594, 0.        ]])"
            ]
          },
          "metadata": {
            "tags": []
          },
          "execution_count": 26
        }
      ]
    },
    {
      "cell_type": "markdown",
      "metadata": {
        "id": "Z2PjWKOoIwWv",
        "colab_type": "text"
      },
      "source": [
        "##What happens when you add more layers to a grah convolutional network?\n",
        "\n",
        "Unlike a traditional convolutional neural network, graph convolutional network usually have very few layers. \n",
        "\n",
        "The no of layers, represent amout of infromation from the neighbouring nodes. \n",
        "\n",
        "For example when we consider the same graph. For explaination purpose I wont be using normalization."
      ]
    },
    {
      "cell_type": "code",
      "metadata": {
        "id": "iE2YMoB3KyuP",
        "colab_type": "code",
        "colab": {
          "base_uri": "https://localhost:8080/",
          "height": 319
        },
        "outputId": "8816d222-708e-4b64-81d3-ade6d885b0dd"
      },
      "source": [
        "nx.draw(G, with_labels=True)"
      ],
      "execution_count": 33,
      "outputs": [
        {
          "output_type": "display_data",
          "data": {
            "image/png": "[encoded data removed]",
            "text/plain": [
              "<Figure size 432x288 with 1 Axes>"
            ]
          },
          "metadata": {
            "tags": []
          }
        }
      ]
    },
    {
      "cell_type": "markdown",
      "metadata": {
        "id": "_t049MQAK7CF",
        "colab_type": "text"
      },
      "source": [
        "**0 = a,\n",
        "1 = b,\n",
        "2 = a,\n",
        "3 = b**\n"
      ]
    },
    {
      "cell_type": "code",
      "metadata": {
        "id": "F-axgUJ0Mltk",
        "colab_type": "code",
        "colab": {
          "base_uri": "https://localhost:8080/",
          "height": 85
        },
        "outputId": "942873fe-690c-493f-ef83-334d7c194f00"
      },
      "source": [
        "print(A)"
      ],
      "execution_count": 35,
      "outputs": [
        {
          "output_type": "stream",
          "text": [
            "[[0. 1. 0. 0.]\n",
            " [0. 0. 1. 1.]\n",
            " [0. 1. 0. 0.]\n",
            " [1. 0. 0. 0.]]\n"
          ],
          "name": "stdout"
        }
      ]
    },
    {
      "cell_type": "markdown",
      "metadata": {
        "id": "McHlrP-PJcRa",
        "colab_type": "text"
      },
      "source": [
        "###First layer"
      ]
    },
    {
      "cell_type": "code",
      "metadata": {
        "id": "KqoFxo86HXHk",
        "colab_type": "code",
        "colab": {
          "base_uri": "https://localhost:8080/",
          "height": 85
        },
        "outputId": "27c88420-aa04-4c3c-9abd-cb4387c2d843"
      },
      "source": [
        "H1 = A_hat * X\n",
        "H1"
      ],
      "execution_count": 38,
      "outputs": [
        {
          "output_type": "execute_result",
          "data": {
            "text/plain": [
              "matrix([[1., 1.],\n",
              "        [1., 2.],\n",
              "        [1., 1.],\n",
              "        [1., 1.]])"
            ]
          },
          "metadata": {
            "tags": []
          },
          "execution_count": 38
        }
      ]
    },
    {
      "cell_type": "code",
      "metadata": {
        "id": "6Uw1Re5cJm7K",
        "colab_type": "code",
        "colab": {}
      },
      "source": [
        "#  a b\n",
        "#a 1 1   a is connected to 1 a and 1 b (Node 0) \n",
        "#b 1 2   b is connected to 1 a and 2 b (Node 1)\n",
        "#a 1 1   a is connected to 1 a and 1 b (Node 2)\n",
        "#b 1 1   b is connected to 1 a and 1 b (Node 3)\n",
        "\n",
        "#The aggregated representation of a node does include its own features!"
      ],
      "execution_count": 0,
      "outputs": []
    },
    {
      "cell_type": "markdown",
      "metadata": {
        "id": "fEV4Ts2nKS5l",
        "colab_type": "text"
      },
      "source": [
        "###Second Layer"
      ]
    },
    {
      "cell_type": "code",
      "metadata": {
        "id": "DS7c0uOqJqtL",
        "colab_type": "code",
        "colab": {
          "base_uri": "https://localhost:8080/",
          "height": 85
        },
        "outputId": "47eae140-646f-4bcf-daa2-bc0e3fe7ca36"
      },
      "source": [
        "H2 = A_hat * H1\n",
        "H2"
      ],
      "execution_count": 39,
      "outputs": [
        {
          "output_type": "execute_result",
          "data": {
            "text/plain": [
              "matrix([[2., 3.],\n",
              "        [3., 4.],\n",
              "        [2., 3.],\n",
              "        [2., 2.]])"
            ]
          },
          "metadata": {
            "tags": []
          },
          "execution_count": 39
        }
      ]
    },
    {
      "cell_type": "code",
      "metadata": {
        "id": "QkvuWFo1J1gK",
        "colab_type": "code",
        "colab": {}
      },
      "source": [
        "#  a b\n",
        "#a 2 3   a is connected(Directly and Indirectly) to 2 a and 3 b (Node 0) \n",
        "#b 3 4   b is connected(Directly and Indirectly) to 3 a and 4 b (Node 1)\n",
        "#a 2 3   a is connected(Directly and Indirectly) to 2 a and 3 b (Node 2)\n",
        "#b 2 2   b is connected(Directly and Indirectly) to 2 a and 2 b (Node 3)\n",
        "\n",
        "#The aggregated representation of a node does include its own features!"
      ],
      "execution_count": 0,
      "outputs": []
    }
  ]
}