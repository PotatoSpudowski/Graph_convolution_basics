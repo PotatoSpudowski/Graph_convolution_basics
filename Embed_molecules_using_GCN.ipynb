{
  "nbformat": 4,
  "nbformat_minor": 0,
  "metadata": {
    "colab": {
      "name": "Embed molecules using GCN.ipynb",
      "provenance": [],
      "collapsed_sections": [],
      "authorship_tag": "ABX9TyPbMCWJffhcFYsR5uzj2wid",
      "include_colab_link": true
    },
    "kernelspec": {
      "name": "python3",
      "display_name": "Python 3"
    },
    "accelerator": "GPU"
  },
  "cells": [
    {
      "cell_type": "markdown",
      "metadata": {
        "id": "view-in-github",
        "colab_type": "text"
      },
      "source": [
        "<a href=\"https://colab.research.google.com/github/PotatoSpudowski/Graph_convolution_basics/blob/master/Embed_molecules_using_GCN.ipynb\" target=\"_parent\"><img src=\"https://colab.research.google.com/assets/colab-badge.svg\" alt=\"Open In Colab\"/></a>"
      ]
    },
    {
      "cell_type": "code",
      "metadata": {
        "id": "RKGezE3z2k7I",
        "colab_type": "code",
        "outputId": "16a0a348-82a5-4ae8-cd29-6901b98bab0c",
        "colab": {
          "base_uri": "https://localhost:8080/",
          "height": 258
        }
      },
      "source": [
        "!ln -sf /opt/bin/nvidia-smi /usr/bin/nvidia-smi\n",
        "!pip install gputil\n",
        "!pip install psutil\n",
        "!pip install humanize\n",
        "import psutil\n",
        "import humanize\n",
        "import os\n",
        "import GPUtil as GPU\n",
        "GPUs = GPU.getGPUs()\n",
        "gpu = GPUs[0]\n",
        "def printm():\n",
        " process = psutil.Process(os.getpid())\n",
        " print(\"Gen RAM Free: \" + humanize.naturalsize( psutil.virtual_memory().available ), \" | Proc size: \" + humanize.naturalsize( process.memory_info().rss))\n",
        " print(\"Gpu name: \"+ gpu.name +\"| GPU RAM Free: {0:.0f}MB | Used: {1:.0f}MB | Util {2:3.0f}% | Total {3:.0f}MB\".format(gpu.memoryFree, gpu.memoryUsed, gpu.memoryUtil*100, gpu.memoryTotal))\n",
        "printm() "
      ],
      "execution_count": 1,
      "outputs": [
        {
          "output_type": "stream",
          "text": [
            "Collecting gputil\n",
            "  Downloading https://files.pythonhosted.org/packages/ed/0e/5c61eedde9f6c87713e89d794f01e378cfd9565847d4576fa627d758c554/GPUtil-1.4.0.tar.gz\n",
            "Building wheels for collected packages: gputil\n",
            "  Building wheel for gputil (setup.py) ... \u001b[?25l\u001b[?25hdone\n",
            "  Created wheel for gputil: filename=GPUtil-1.4.0-cp36-none-any.whl size=7413 sha256=8e2823a148870e27da0633060716680eb1d60c27f4e9af675bc6bb7f6917e6f3\n",
            "  Stored in directory: /root/.cache/pip/wheels/3d/77/07/80562de4bb0786e5ea186911a2c831fdd0018bda69beab71fd\n",
            "Successfully built gputil\n",
            "Installing collected packages: gputil\n",
            "Successfully installed gputil-1.4.0\n",
            "Requirement already satisfied: psutil in /usr/local/lib/python3.6/dist-packages (5.4.8)\n",
            "Requirement already satisfied: humanize in /usr/local/lib/python3.6/dist-packages (0.5.1)\n",
            "Gen RAM Free: 12.7 GB  | Proc size: 159.2 MB\n",
            "Gpu name: Tesla P100-PCIE-16GB| GPU RAM Free: 16280MB | Used: 0MB | Util   0% | Total 16280MB\n"
          ],
          "name": "stdout"
        }
      ]
    },
    {
      "cell_type": "code",
      "metadata": {
        "id": "b4XdW89VJZnj",
        "colab_type": "code",
        "outputId": "423f7f38-7949-4f3d-e118-bedd0a981962",
        "colab": {
          "base_uri": "https://localhost:8080/",
          "height": 1000
        }
      },
      "source": [
        "!pip install torch-scatter==latest+cu101 -f https://pytorch-geometric.com/whl/torch-1.4.0.html\n",
        "!pip install torch-sparse==latest+cu101 -f https://pytorch-geometric.com/whl/torch-1.4.0.html\n",
        "!pip install torch-cluster==latest+cu101 -f https://pytorch-geometric.com/whl/torch-1.4.0.html\n",
        "!pip install torch-spline-conv==latest+cu101 -f https://pytorch-geometric.com/whl/torch-1.4.0.html\n",
        "!pip install torch-geometric"
      ],
      "execution_count": 2,
      "outputs": [
        {
          "output_type": "stream",
          "text": [
            "Looking in links: https://pytorch-geometric.com/whl/torch-1.4.0.html\n",
            "Collecting torch-scatter==latest+cu101\n",
            "\u001b[?25l  Downloading https://s3.eu-central-1.amazonaws.com/pytorch-geometric.com/whl/torch-1.4.0/torch_scatter-latest%2Bcu101-cp36-cp36m-linux_x86_64.whl (10.6MB)\n",
            "\u001b[K     |████████████████████████████████| 10.6MB 1.6MB/s \n",
            "\u001b[?25hInstalling collected packages: torch-scatter\n",
            "Successfully installed torch-scatter-2.0.4\n",
            "Looking in links: https://pytorch-geometric.com/whl/torch-1.4.0.html\n",
            "Collecting torch-sparse==latest+cu101\n",
            "\u001b[?25l  Downloading https://s3.eu-central-1.amazonaws.com/pytorch-geometric.com/whl/torch-1.4.0/torch_sparse-latest%2Bcu101-cp36-cp36m-linux_x86_64.whl (15.2MB)\n",
            "\u001b[K     |████████████████████████████████| 15.2MB 2.0MB/s \n",
            "\u001b[?25hRequirement already satisfied: scipy in /usr/local/lib/python3.6/dist-packages (from torch-sparse==latest+cu101) (1.4.1)\n",
            "Requirement already satisfied: numpy>=1.13.3 in /usr/local/lib/python3.6/dist-packages (from scipy->torch-sparse==latest+cu101) (1.18.2)\n",
            "Installing collected packages: torch-sparse\n",
            "Successfully installed torch-sparse-0.6.1\n",
            "Looking in links: https://pytorch-geometric.com/whl/torch-1.4.0.html\n",
            "Collecting torch-cluster==latest+cu101\n",
            "\u001b[?25l  Downloading https://s3.eu-central-1.amazonaws.com/pytorch-geometric.com/whl/torch-1.4.0/torch_cluster-latest%2Bcu101-cp36-cp36m-linux_x86_64.whl (14.5MB)\n",
            "\u001b[K     |████████████████████████████████| 14.5MB 972kB/s \n",
            "\u001b[?25hRequirement already satisfied: scipy in /usr/local/lib/python3.6/dist-packages (from torch-cluster==latest+cu101) (1.4.1)\n",
            "Requirement already satisfied: numpy>=1.13.3 in /usr/local/lib/python3.6/dist-packages (from scipy->torch-cluster==latest+cu101) (1.18.2)\n",
            "Installing collected packages: torch-cluster\n",
            "Successfully installed torch-cluster-1.5.4\n",
            "Looking in links: https://pytorch-geometric.com/whl/torch-1.4.0.html\n",
            "Collecting torch-spline-conv==latest+cu101\n",
            "\u001b[?25l  Downloading https://s3.eu-central-1.amazonaws.com/pytorch-geometric.com/whl/torch-1.4.0/torch_spline_conv-latest%2Bcu101-cp36-cp36m-linux_x86_64.whl (5.1MB)\n",
            "\u001b[K     |████████████████████████████████| 5.1MB 690kB/s \n",
            "\u001b[?25hInstalling collected packages: torch-spline-conv\n",
            "Successfully installed torch-spline-conv-1.2.0\n",
            "Collecting torch-geometric\n",
            "\u001b[?25l  Downloading https://files.pythonhosted.org/packages/4c/35/8a65fc0b685d916f5f70199d6ad6f19bb002dc3a547a3fe5b68d60047f3b/torch_geometric-1.4.3.tar.gz (129kB)\n",
            "\u001b[K     |████████████████████████████████| 133kB 4.7MB/s \n",
            "\u001b[?25hRequirement already satisfied: torch in /usr/local/lib/python3.6/dist-packages (from torch-geometric) (1.4.0)\n",
            "Requirement already satisfied: numpy in /usr/local/lib/python3.6/dist-packages (from torch-geometric) (1.18.2)\n",
            "Requirement already satisfied: scipy in /usr/local/lib/python3.6/dist-packages (from torch-geometric) (1.4.1)\n",
            "Requirement already satisfied: networkx in /usr/local/lib/python3.6/dist-packages (from torch-geometric) (2.4)\n",
            "Requirement already satisfied: scikit-learn in /usr/local/lib/python3.6/dist-packages (from torch-geometric) (0.22.2.post1)\n",
            "Requirement already satisfied: scikit-image in /usr/local/lib/python3.6/dist-packages (from torch-geometric) (0.16.2)\n",
            "Requirement already satisfied: numba in /usr/local/lib/python3.6/dist-packages (from torch-geometric) (0.48.0)\n",
            "Requirement already satisfied: requests in /usr/local/lib/python3.6/dist-packages (from torch-geometric) (2.21.0)\n",
            "Collecting plyfile\n",
            "  Downloading https://files.pythonhosted.org/packages/93/c8/cf47848cd4d661850e4a8e7f0fc4f7298515e06d0da7255ed08e5312d4aa/plyfile-0.7.2-py3-none-any.whl\n",
            "Requirement already satisfied: pandas in /usr/local/lib/python3.6/dist-packages (from torch-geometric) (1.0.3)\n",
            "Collecting rdflib\n",
            "\u001b[?25l  Downloading https://files.pythonhosted.org/packages/3c/fe/630bacb652680f6d481b9febbb3e2c3869194a1a5fc3401a4a41195a2f8f/rdflib-4.2.2-py3-none-any.whl (344kB)\n",
            "\u001b[K     |████████████████████████████████| 348kB 15.2MB/s \n",
            "\u001b[?25hRequirement already satisfied: h5py in /usr/local/lib/python3.6/dist-packages (from torch-geometric) (2.10.0)\n",
            "Requirement already satisfied: googledrivedownloader in /usr/local/lib/python3.6/dist-packages (from torch-geometric) (0.4)\n",
            "Requirement already satisfied: decorator>=4.3.0 in /usr/local/lib/python3.6/dist-packages (from networkx->torch-geometric) (4.4.2)\n",
            "Requirement already satisfied: joblib>=0.11 in /usr/local/lib/python3.6/dist-packages (from scikit-learn->torch-geometric) (0.14.1)\n",
            "Requirement already satisfied: pillow>=4.3.0 in /usr/local/lib/python3.6/dist-packages (from scikit-image->torch-geometric) (7.0.0)\n",
            "Requirement already satisfied: PyWavelets>=0.4.0 in /usr/local/lib/python3.6/dist-packages (from scikit-image->torch-geometric) (1.1.1)\n",
            "Requirement already satisfied: matplotlib!=3.0.0,>=2.0.0 in /usr/local/lib/python3.6/dist-packages (from scikit-image->torch-geometric) (3.2.1)\n",
            "Requirement already satisfied: imageio>=2.3.0 in /usr/local/lib/python3.6/dist-packages (from scikit-image->torch-geometric) (2.4.1)\n",
            "Requirement already satisfied: llvmlite<0.32.0,>=0.31.0dev0 in /usr/local/lib/python3.6/dist-packages (from numba->torch-geometric) (0.31.0)\n",
            "Requirement already satisfied: setuptools in /usr/local/lib/python3.6/dist-packages (from numba->torch-geometric) (46.1.3)\n",
            "Requirement already satisfied: chardet<3.1.0,>=3.0.2 in /usr/local/lib/python3.6/dist-packages (from requests->torch-geometric) (3.0.4)\n",
            "Requirement already satisfied: certifi>=2017.4.17 in /usr/local/lib/python3.6/dist-packages (from requests->torch-geometric) (2020.4.5.1)\n",
            "Requirement already satisfied: urllib3<1.25,>=1.21.1 in /usr/local/lib/python3.6/dist-packages (from requests->torch-geometric) (1.24.3)\n",
            "Requirement already satisfied: idna<2.9,>=2.5 in /usr/local/lib/python3.6/dist-packages (from requests->torch-geometric) (2.8)\n",
            "Requirement already satisfied: python-dateutil>=2.6.1 in /usr/local/lib/python3.6/dist-packages (from pandas->torch-geometric) (2.8.1)\n",
            "Requirement already satisfied: pytz>=2017.2 in /usr/local/lib/python3.6/dist-packages (from pandas->torch-geometric) (2018.9)\n",
            "Collecting isodate\n",
            "\u001b[?25l  Downloading https://files.pythonhosted.org/packages/9b/9f/b36f7774ff5ea8e428fdcfc4bb332c39ee5b9362ddd3d40d9516a55221b2/isodate-0.6.0-py2.py3-none-any.whl (45kB)\n",
            "\u001b[K     |████████████████████████████████| 51kB 8.7MB/s \n",
            "\u001b[?25hRequirement already satisfied: pyparsing in /usr/local/lib/python3.6/dist-packages (from rdflib->torch-geometric) (2.4.7)\n",
            "Requirement already satisfied: six in /usr/local/lib/python3.6/dist-packages (from h5py->torch-geometric) (1.12.0)\n",
            "Requirement already satisfied: cycler>=0.10 in /usr/local/lib/python3.6/dist-packages (from matplotlib!=3.0.0,>=2.0.0->scikit-image->torch-geometric) (0.10.0)\n",
            "Requirement already satisfied: kiwisolver>=1.0.1 in /usr/local/lib/python3.6/dist-packages (from matplotlib!=3.0.0,>=2.0.0->scikit-image->torch-geometric) (1.2.0)\n",
            "Building wheels for collected packages: torch-geometric\n",
            "  Building wheel for torch-geometric (setup.py) ... \u001b[?25l\u001b[?25hdone\n",
            "  Created wheel for torch-geometric: filename=torch_geometric-1.4.3-cp36-none-any.whl size=234873 sha256=fc2fa6a52e4755bc84d941367e276d487771eddd60ea02a3779b32534e36ec2c\n",
            "  Stored in directory: /root/.cache/pip/wheels/e2/c1/09/8693feee3f97e440d68b09abfca8b4c1e97150ace350b5003f\n",
            "Successfully built torch-geometric\n",
            "Installing collected packages: plyfile, isodate, rdflib, torch-geometric\n",
            "Successfully installed isodate-0.6.0 plyfile-0.7.2 rdflib-4.2.2 torch-geometric-1.4.3\n"
          ],
          "name": "stdout"
        }
      ]
    },
    {
      "cell_type": "code",
      "metadata": {
        "id": "VAegDUvFJurG",
        "colab_type": "code",
        "colab": {
          "base_uri": "https://localhost:8080/",
          "height": 207
        },
        "outputId": "819fc7c9-0d24-4b1f-d137-506ee406a64c"
      },
      "source": [
        "!pip install annoy"
      ],
      "execution_count": 3,
      "outputs": [
        {
          "output_type": "stream",
          "text": [
            "Collecting annoy\n",
            "\u001b[?25l  Downloading https://files.pythonhosted.org/packages/00/15/5a9db225ebda93a235aebd5e42bbf83ab7035e7e4783c6cb528c635c9afb/annoy-1.16.3.tar.gz (644kB)\n",
            "\r\u001b[K     |▌                               | 10kB 26.1MB/s eta 0:00:01\r\u001b[K     |█                               | 20kB 2.9MB/s eta 0:00:01\r\u001b[K     |█▌                              | 30kB 4.0MB/s eta 0:00:01\r\u001b[K     |██                              | 40kB 2.9MB/s eta 0:00:01\r\u001b[K     |██▌                             | 51kB 3.2MB/s eta 0:00:01\r\u001b[K     |███                             | 61kB 3.8MB/s eta 0:00:01\r\u001b[K     |███▋                            | 71kB 4.1MB/s eta 0:00:01\r\u001b[K     |████                            | 81kB 4.3MB/s eta 0:00:01\r\u001b[K     |████▋                           | 92kB 4.8MB/s eta 0:00:01\r\u001b[K     |█████                           | 102kB 4.8MB/s eta 0:00:01\r\u001b[K     |█████▋                          | 112kB 4.8MB/s eta 0:00:01\r\u001b[K     |██████                          | 122kB 4.8MB/s eta 0:00:01\r\u001b[K     |██████▋                         | 133kB 4.8MB/s eta 0:00:01\r\u001b[K     |███████▏                        | 143kB 4.8MB/s eta 0:00:01\r\u001b[K     |███████▋                        | 153kB 4.8MB/s eta 0:00:01\r\u001b[K     |████████▏                       | 163kB 4.8MB/s eta 0:00:01\r\u001b[K     |████████▋                       | 174kB 4.8MB/s eta 0:00:01\r\u001b[K     |█████████▏                      | 184kB 4.8MB/s eta 0:00:01\r\u001b[K     |█████████▋                      | 194kB 4.8MB/s eta 0:00:01\r\u001b[K     |██████████▏                     | 204kB 4.8MB/s eta 0:00:01\r\u001b[K     |██████████▊                     | 215kB 4.8MB/s eta 0:00:01\r\u001b[K     |███████████▏                    | 225kB 4.8MB/s eta 0:00:01\r\u001b[K     |███████████▊                    | 235kB 4.8MB/s eta 0:00:01\r\u001b[K     |████████████▏                   | 245kB 4.8MB/s eta 0:00:01\r\u001b[K     |████████████▊                   | 256kB 4.8MB/s eta 0:00:01\r\u001b[K     |█████████████▎                  | 266kB 4.8MB/s eta 0:00:01\r\u001b[K     |█████████████▊                  | 276kB 4.8MB/s eta 0:00:01\r\u001b[K     |██████████████▎                 | 286kB 4.8MB/s eta 0:00:01\r\u001b[K     |██████████████▊                 | 296kB 4.8MB/s eta 0:00:01\r\u001b[K     |███████████████▎                | 307kB 4.8MB/s eta 0:00:01\r\u001b[K     |███████████████▊                | 317kB 4.8MB/s eta 0:00:01\r\u001b[K     |████████████████▎               | 327kB 4.8MB/s eta 0:00:01\r\u001b[K     |████████████████▉               | 337kB 4.8MB/s eta 0:00:01\r\u001b[K     |█████████████████▎              | 348kB 4.8MB/s eta 0:00:01\r\u001b[K     |█████████████████▉              | 358kB 4.8MB/s eta 0:00:01\r\u001b[K     |██████████████████▎             | 368kB 4.8MB/s eta 0:00:01\r\u001b[K     |██████████████████▉             | 378kB 4.8MB/s eta 0:00:01\r\u001b[K     |███████████████████▎            | 389kB 4.8MB/s eta 0:00:01\r\u001b[K     |███████████████████▉            | 399kB 4.8MB/s eta 0:00:01\r\u001b[K     |████████████████████▍           | 409kB 4.8MB/s eta 0:00:01\r\u001b[K     |████████████████████▉           | 419kB 4.8MB/s eta 0:00:01\r\u001b[K     |█████████████████████▍          | 430kB 4.8MB/s eta 0:00:01\r\u001b[K     |█████████████████████▉          | 440kB 4.8MB/s eta 0:00:01\r\u001b[K     |██████████████████████▍         | 450kB 4.8MB/s eta 0:00:01\r\u001b[K     |██████████████████████▉         | 460kB 4.8MB/s eta 0:00:01\r\u001b[K     |███████████████████████▍        | 471kB 4.8MB/s eta 0:00:01\r\u001b[K     |████████████████████████        | 481kB 4.8MB/s eta 0:00:01\r\u001b[K     |████████████████████████▍       | 491kB 4.8MB/s eta 0:00:01\r\u001b[K     |█████████████████████████       | 501kB 4.8MB/s eta 0:00:01\r\u001b[K     |█████████████████████████▍      | 512kB 4.8MB/s eta 0:00:01\r\u001b[K     |██████████████████████████      | 522kB 4.8MB/s eta 0:00:01\r\u001b[K     |██████████████████████████▌     | 532kB 4.8MB/s eta 0:00:01\r\u001b[K     |███████████████████████████     | 542kB 4.8MB/s eta 0:00:01\r\u001b[K     |███████████████████████████▌    | 552kB 4.8MB/s eta 0:00:01\r\u001b[K     |████████████████████████████    | 563kB 4.8MB/s eta 0:00:01\r\u001b[K     |████████████████████████████▌   | 573kB 4.8MB/s eta 0:00:01\r\u001b[K     |█████████████████████████████   | 583kB 4.8MB/s eta 0:00:01\r\u001b[K     |█████████████████████████████▌  | 593kB 4.8MB/s eta 0:00:01\r\u001b[K     |██████████████████████████████  | 604kB 4.8MB/s eta 0:00:01\r\u001b[K     |██████████████████████████████▌ | 614kB 4.8MB/s eta 0:00:01\r\u001b[K     |███████████████████████████████ | 624kB 4.8MB/s eta 0:00:01\r\u001b[K     |███████████████████████████████▌| 634kB 4.8MB/s eta 0:00:01\r\u001b[K     |████████████████████████████████| 645kB 4.8MB/s \n",
            "\u001b[?25hBuilding wheels for collected packages: annoy\n",
            "  Building wheel for annoy (setup.py) ... \u001b[?25l\u001b[?25hdone\n",
            "  Created wheel for annoy: filename=annoy-1.16.3-cp36-cp36m-linux_x86_64.whl size=297320 sha256=42d13022781867241db5653b517d056955dbb640f7101138b22e2edde42d826d\n",
            "  Stored in directory: /root/.cache/pip/wheels/f3/01/54/6ef760fe9f9fc6ba8c19cebbe6358212b5f3b5b0195c0b813f\n",
            "Successfully built annoy\n",
            "Installing collected packages: annoy\n",
            "Successfully installed annoy-1.16.3\n"
          ],
          "name": "stdout"
        }
      ]
    },
    {
      "cell_type": "code",
      "metadata": {
        "id": "q6CqZB3zH6Xz",
        "colab_type": "code",
        "outputId": "654aa275-dac6-45e5-bb35-a08e60f75a06",
        "colab": {
          "base_uri": "https://localhost:8080/",
          "height": 1000
        }
      },
      "source": [
        "!wget -c https://repo.continuum.io/miniconda/Miniconda3-latest-Linux-x86_64.sh\n",
        "!chmod +x Miniconda3-latest-Linux-x86_64.sh\n",
        "!time bash ./Miniconda3-latest-Linux-x86_64.sh -b -f -p /usr/local\n",
        "!time conda install -q -y -c conda-forge rdkit"
      ],
      "execution_count": 4,
      "outputs": [
        {
          "output_type": "stream",
          "text": [
            "--2020-04-12 02:17:16--  https://repo.continuum.io/miniconda/Miniconda3-latest-Linux-x86_64.sh\n",
            "Resolving repo.continuum.io (repo.continuum.io)... 104.18.200.79, 104.18.201.79, 2606:4700::6812:c84f, ...\n",
            "Connecting to repo.continuum.io (repo.continuum.io)|104.18.200.79|:443... connected.\n",
            "HTTP request sent, awaiting response... 301 Moved Permanently\n",
            "Location: https://repo.anaconda.com/miniconda/Miniconda3-latest-Linux-x86_64.sh [following]\n",
            "--2020-04-12 02:17:16--  https://repo.anaconda.com/miniconda/Miniconda3-latest-Linux-x86_64.sh\n",
            "Resolving repo.anaconda.com (repo.anaconda.com)... 104.16.131.3, 104.16.130.3, 2606:4700::6810:8203, ...\n",
            "Connecting to repo.anaconda.com (repo.anaconda.com)|104.16.131.3|:443... connected.\n",
            "HTTP request sent, awaiting response... 200 OK\n",
            "Length: 85055499 (81M) [application/x-sh]\n",
            "Saving to: ‘Miniconda3-latest-Linux-x86_64.sh’\n",
            "\n",
            "\r          Miniconda   0%[                    ]       0  --.-KB/s               \r         Miniconda3  45%[========>           ]  36.65M   183MB/s               \r        Miniconda3-  79%[==============>     ]  64.86M   162MB/s               \rMiniconda3-latest-L 100%[===================>]  81.12M   157MB/s    in 0.5s    \n",
            "\n",
            "2020-04-12 02:17:17 (157 MB/s) - ‘Miniconda3-latest-Linux-x86_64.sh’ saved [85055499/85055499]\n",
            "\n",
            "PREFIX=/usr/local\n",
            "Unpacking payload ...\n",
            "Collecting package metadata (current_repodata.json): - \b\b\\ \b\b| \b\bdone\n",
            "Solving environment: - \b\b\\ \b\bdone\n",
            "\n",
            "## Package Plan ##\n",
            "\n",
            "  environment location: /usr/local\n",
            "\n",
            "  added / updated specs:\n",
            "    - _libgcc_mutex==0.1=main\n",
            "    - asn1crypto==1.3.0=py37_0\n",
            "    - ca-certificates==2020.1.1=0\n",
            "    - certifi==2019.11.28=py37_0\n",
            "    - cffi==1.14.0=py37h2e261b9_0\n",
            "    - chardet==3.0.4=py37_1003\n",
            "    - conda-package-handling==1.6.0=py37h7b6447c_0\n",
            "    - conda==4.8.2=py37_0\n",
            "    - cryptography==2.8=py37h1ba5d50_0\n",
            "    - idna==2.8=py37_0\n",
            "    - ld_impl_linux-64==2.33.1=h53a641e_7\n",
            "    - libedit==3.1.20181209=hc058e9b_0\n",
            "    - libffi==3.2.1=hd88cf55_4\n",
            "    - libgcc-ng==9.1.0=hdf63c60_0\n",
            "    - libstdcxx-ng==9.1.0=hdf63c60_0\n",
            "    - ncurses==6.2=he6710b0_0\n",
            "    - openssl==1.1.1d=h7b6447c_4\n",
            "    - pip==20.0.2=py37_1\n",
            "    - pycosat==0.6.3=py37h7b6447c_0\n",
            "    - pycparser==2.19=py37_0\n",
            "    - pyopenssl==19.1.0=py37_0\n",
            "    - pysocks==1.7.1=py37_0\n",
            "    - python==3.7.6=h0371630_2\n",
            "    - readline==7.0=h7b6447c_5\n",
            "    - requests==2.22.0=py37_1\n",
            "    - ruamel_yaml==0.15.87=py37h7b6447c_0\n",
            "    - setuptools==45.2.0=py37_0\n",
            "    - six==1.14.0=py37_0\n",
            "    - sqlite==3.31.1=h7b6447c_0\n",
            "    - tk==8.6.8=hbc83047_0\n",
            "    - tqdm==4.42.1=py_0\n",
            "    - urllib3==1.25.8=py37_0\n",
            "    - wheel==0.34.2=py37_0\n",
            "    - xz==5.2.4=h14c3975_4\n",
            "    - yaml==0.1.7=had09818_2\n",
            "    - zlib==1.2.11=h7b6447c_3\n",
            "\n",
            "\n",
            "The following NEW packages will be INSTALLED:\n",
            "\n",
            "  _libgcc_mutex      pkgs/main/linux-64::_libgcc_mutex-0.1-main\n",
            "  asn1crypto         pkgs/main/linux-64::asn1crypto-1.3.0-py37_0\n",
            "  ca-certificates    pkgs/main/linux-64::ca-certificates-2020.1.1-0\n",
            "  certifi            pkgs/main/linux-64::certifi-2019.11.28-py37_0\n",
            "  cffi               pkgs/main/linux-64::cffi-1.14.0-py37h2e261b9_0\n",
            "  chardet            pkgs/main/linux-64::chardet-3.0.4-py37_1003\n",
            "  conda              pkgs/main/linux-64::conda-4.8.2-py37_0\n",
            "  conda-package-han~ pkgs/main/linux-64::conda-package-handling-1.6.0-py37h7b6447c_0\n",
            "  cryptography       pkgs/main/linux-64::cryptography-2.8-py37h1ba5d50_0\n",
            "  idna               pkgs/main/linux-64::idna-2.8-py37_0\n",
            "  ld_impl_linux-64   pkgs/main/linux-64::ld_impl_linux-64-2.33.1-h53a641e_7\n",
            "  libedit            pkgs/main/linux-64::libedit-3.1.20181209-hc058e9b_0\n",
            "  libffi             pkgs/main/linux-64::libffi-3.2.1-hd88cf55_4\n",
            "  libgcc-ng          pkgs/main/linux-64::libgcc-ng-9.1.0-hdf63c60_0\n",
            "  libstdcxx-ng       pkgs/main/linux-64::libstdcxx-ng-9.1.0-hdf63c60_0\n",
            "  ncurses            pkgs/main/linux-64::ncurses-6.2-he6710b0_0\n",
            "  openssl            pkgs/main/linux-64::openssl-1.1.1d-h7b6447c_4\n",
            "  pip                pkgs/main/linux-64::pip-20.0.2-py37_1\n",
            "  pycosat            pkgs/main/linux-64::pycosat-0.6.3-py37h7b6447c_0\n",
            "  pycparser          pkgs/main/linux-64::pycparser-2.19-py37_0\n",
            "  pyopenssl          pkgs/main/linux-64::pyopenssl-19.1.0-py37_0\n",
            "  pysocks            pkgs/main/linux-64::pysocks-1.7.1-py37_0\n",
            "  python             pkgs/main/linux-64::python-3.7.6-h0371630_2\n",
            "  readline           pkgs/main/linux-64::readline-7.0-h7b6447c_5\n",
            "  requests           pkgs/main/linux-64::requests-2.22.0-py37_1\n",
            "  ruamel_yaml        pkgs/main/linux-64::ruamel_yaml-0.15.87-py37h7b6447c_0\n",
            "  setuptools         pkgs/main/linux-64::setuptools-45.2.0-py37_0\n",
            "  six                pkgs/main/linux-64::six-1.14.0-py37_0\n",
            "  sqlite             pkgs/main/linux-64::sqlite-3.31.1-h7b6447c_0\n",
            "  tk                 pkgs/main/linux-64::tk-8.6.8-hbc83047_0\n",
            "  tqdm               pkgs/main/noarch::tqdm-4.42.1-py_0\n",
            "  urllib3            pkgs/main/linux-64::urllib3-1.25.8-py37_0\n",
            "  wheel              pkgs/main/linux-64::wheel-0.34.2-py37_0\n",
            "  xz                 pkgs/main/linux-64::xz-5.2.4-h14c3975_4\n",
            "  yaml               pkgs/main/linux-64::yaml-0.1.7-had09818_2\n",
            "  zlib               pkgs/main/linux-64::zlib-1.2.11-h7b6447c_3\n",
            "\n",
            "\n",
            "Preparing transaction: / \b\b- \b\b\\ \b\bdone\n",
            "Executing transaction: / \b\b- \b\b\\ \b\b| \b\b/ \b\b- \b\b\\ \b\b| \b\b/ \b\b- \b\b\\ \b\b| \b\bdone\n",
            "installation finished.\n",
            "WARNING:\n",
            "    You currently have a PYTHONPATH environment variable set. This may cause\n",
            "    unexpected behavior when running the Python interpreter in Miniconda3.\n",
            "    For best results, please verify that your PYTHONPATH only points to\n",
            "    directories of packages that are compatible with the Python interpreter\n",
            "    in Miniconda3: /usr/local\n",
            "\n",
            "real\t0m22.846s\n",
            "user\t0m6.568s\n",
            "sys\t0m3.277s\n",
            "Collecting package metadata (current_repodata.json): ...working... done\n",
            "Solving environment: ...working... done\n",
            "\n",
            "## Package Plan ##\n",
            "\n",
            "  environment location: /usr/local\n",
            "\n",
            "  added / updated specs:\n",
            "    - rdkit\n",
            "\n",
            "\n",
            "The following packages will be downloaded:\n",
            "\n",
            "    package                    |            build\n",
            "    ---------------------------|-----------------\n",
            "    boost-1.72.0               |   py37h9de70de_0         316 KB  conda-forge\n",
            "    boost-cpp-1.72.0           |       h8e57a91_0        21.8 MB  conda-forge\n",
            "    bzip2-1.0.8                |       h516909a_2         396 KB  conda-forge\n",
            "    ca-certificates-2020.4.5.1 |       hecc5488_0         146 KB  conda-forge\n",
            "    cairo-1.16.0               |    hcf35c78_1003         1.5 MB  conda-forge\n",
            "    certifi-2020.4.5.1         |   py37hc8dfbb8_0         151 KB  conda-forge\n",
            "    conda-4.8.3                |   py37hc8dfbb8_1         3.0 MB  conda-forge\n",
            "    fontconfig-2.13.1          |    h86ecdb6_1001         340 KB  conda-forge\n",
            "    freetype-2.10.1            |       he06d7ca_0         877 KB  conda-forge\n",
            "    gettext-0.19.8.1           |    hc5be6a0_1002         3.6 MB  conda-forge\n",
            "    glib-2.58.3                |py37he00f558_1004         3.3 MB  conda-forge\n",
            "    icu-64.2                   |       he1b5a44_1        12.6 MB  conda-forge\n",
            "    jpeg-9c                    |    h14c3975_1001         251 KB  conda-forge\n",
            "    libblas-3.8.0              |      14_openblas          10 KB  conda-forge\n",
            "    libcblas-3.8.0             |      14_openblas          10 KB  conda-forge\n",
            "    libgfortran-ng-7.3.0       |       hdf63c60_5         1.7 MB  conda-forge\n",
            "    libiconv-1.15              |    h516909a_1006         2.0 MB  conda-forge\n",
            "    liblapack-3.8.0            |      14_openblas          10 KB  conda-forge\n",
            "    libopenblas-0.3.7          |       h5ec1e0e_6         7.6 MB  conda-forge\n",
            "    libpng-1.6.37              |       hed695b0_1         308 KB  conda-forge\n",
            "    libtiff-4.1.0              |       hc7e4089_6         668 KB  conda-forge\n",
            "    libuuid-2.32.1             |    h14c3975_1000          26 KB  conda-forge\n",
            "    libwebp-base-1.1.0         |       h516909a_3         845 KB  conda-forge\n",
            "    libxcb-1.13                |    h14c3975_1002         396 KB  conda-forge\n",
            "    libxml2-2.9.10             |       hee79883_0         1.3 MB  conda-forge\n",
            "    lz4-c-1.8.3                |    he1b5a44_1001         187 KB  conda-forge\n",
            "    numpy-1.18.1               |   py37h8960a57_1         5.2 MB  conda-forge\n",
            "    olefile-0.46               |             py_0          31 KB  conda-forge\n",
            "    openssl-1.1.1f             |       h516909a_0         2.1 MB  conda-forge\n",
            "    pandas-1.0.3               |   py37h0da4684_0        11.1 MB  conda-forge\n",
            "    pcre-8.44                  |       he1b5a44_0         261 KB  conda-forge\n",
            "    pillow-7.0.0               |   py37hb39fc2d_0         598 KB\n",
            "    pixman-0.38.0              |    h516909a_1003         594 KB  conda-forge\n",
            "    pthread-stubs-0.4          |    h14c3975_1001           5 KB  conda-forge\n",
            "    pycairo-1.19.1             |   py37h01af8b0_3          77 KB  conda-forge\n",
            "    python-dateutil-2.8.1      |             py_0         220 KB  conda-forge\n",
            "    python_abi-3.7             |          1_cp37m           4 KB  conda-forge\n",
            "    pytz-2019.3                |             py_0         237 KB  conda-forge\n",
            "    rdkit-2020.03.1            |   py37hdd87690_1        24.7 MB  conda-forge\n",
            "    xorg-kbproto-1.0.7         |    h14c3975_1002          26 KB  conda-forge\n",
            "    xorg-libice-1.0.10         |       h516909a_0          57 KB  conda-forge\n",
            "    xorg-libsm-1.2.3           |    h84519dc_1000          25 KB  conda-forge\n",
            "    xorg-libx11-1.6.9          |       h516909a_0         918 KB  conda-forge\n",
            "    xorg-libxau-1.0.9          |       h14c3975_0          13 KB  conda-forge\n",
            "    xorg-libxdmcp-1.1.3        |       h516909a_0          18 KB  conda-forge\n",
            "    xorg-libxext-1.3.4         |       h516909a_0          51 KB  conda-forge\n",
            "    xorg-libxrender-0.9.10     |    h516909a_1002          31 KB  conda-forge\n",
            "    xorg-renderproto-0.11.1    |    h14c3975_1002           8 KB  conda-forge\n",
            "    xorg-xextproto-7.3.0       |    h14c3975_1002          27 KB  conda-forge\n",
            "    xorg-xproto-7.0.31         |    h14c3975_1007          72 KB  conda-forge\n",
            "    zstd-1.4.4                 |       h3b9ef0a_2         982 KB  conda-forge\n",
            "    ------------------------------------------------------------\n",
            "                                           Total:       110.6 MB\n",
            "\n",
            "The following NEW packages will be INSTALLED:\n",
            "\n",
            "  boost              conda-forge/linux-64::boost-1.72.0-py37h9de70de_0\n",
            "  boost-cpp          conda-forge/linux-64::boost-cpp-1.72.0-h8e57a91_0\n",
            "  bzip2              conda-forge/linux-64::bzip2-1.0.8-h516909a_2\n",
            "  cairo              conda-forge/linux-64::cairo-1.16.0-hcf35c78_1003\n",
            "  fontconfig         conda-forge/linux-64::fontconfig-2.13.1-h86ecdb6_1001\n",
            "  freetype           conda-forge/linux-64::freetype-2.10.1-he06d7ca_0\n",
            "  gettext            conda-forge/linux-64::gettext-0.19.8.1-hc5be6a0_1002\n",
            "  glib               conda-forge/linux-64::glib-2.58.3-py37he00f558_1004\n",
            "  icu                conda-forge/linux-64::icu-64.2-he1b5a44_1\n",
            "  jpeg               conda-forge/linux-64::jpeg-9c-h14c3975_1001\n",
            "  libblas            conda-forge/linux-64::libblas-3.8.0-14_openblas\n",
            "  libcblas           conda-forge/linux-64::libcblas-3.8.0-14_openblas\n",
            "  libgfortran-ng     conda-forge/linux-64::libgfortran-ng-7.3.0-hdf63c60_5\n",
            "  libiconv           conda-forge/linux-64::libiconv-1.15-h516909a_1006\n",
            "  liblapack          conda-forge/linux-64::liblapack-3.8.0-14_openblas\n",
            "  libopenblas        conda-forge/linux-64::libopenblas-0.3.7-h5ec1e0e_6\n",
            "  libpng             conda-forge/linux-64::libpng-1.6.37-hed695b0_1\n",
            "  libtiff            conda-forge/linux-64::libtiff-4.1.0-hc7e4089_6\n",
            "  libuuid            conda-forge/linux-64::libuuid-2.32.1-h14c3975_1000\n",
            "  libwebp-base       conda-forge/linux-64::libwebp-base-1.1.0-h516909a_3\n",
            "  libxcb             conda-forge/linux-64::libxcb-1.13-h14c3975_1002\n",
            "  libxml2            conda-forge/linux-64::libxml2-2.9.10-hee79883_0\n",
            "  lz4-c              conda-forge/linux-64::lz4-c-1.8.3-he1b5a44_1001\n",
            "  numpy              conda-forge/linux-64::numpy-1.18.1-py37h8960a57_1\n",
            "  olefile            conda-forge/noarch::olefile-0.46-py_0\n",
            "  pandas             conda-forge/linux-64::pandas-1.0.3-py37h0da4684_0\n",
            "  pcre               conda-forge/linux-64::pcre-8.44-he1b5a44_0\n",
            "  pillow             pkgs/main/linux-64::pillow-7.0.0-py37hb39fc2d_0\n",
            "  pixman             conda-forge/linux-64::pixman-0.38.0-h516909a_1003\n",
            "  pthread-stubs      conda-forge/linux-64::pthread-stubs-0.4-h14c3975_1001\n",
            "  pycairo            conda-forge/linux-64::pycairo-1.19.1-py37h01af8b0_3\n",
            "  python-dateutil    conda-forge/noarch::python-dateutil-2.8.1-py_0\n",
            "  python_abi         conda-forge/linux-64::python_abi-3.7-1_cp37m\n",
            "  pytz               conda-forge/noarch::pytz-2019.3-py_0\n",
            "  rdkit              conda-forge/linux-64::rdkit-2020.03.1-py37hdd87690_1\n",
            "  xorg-kbproto       conda-forge/linux-64::xorg-kbproto-1.0.7-h14c3975_1002\n",
            "  xorg-libice        conda-forge/linux-64::xorg-libice-1.0.10-h516909a_0\n",
            "  xorg-libsm         conda-forge/linux-64::xorg-libsm-1.2.3-h84519dc_1000\n",
            "  xorg-libx11        conda-forge/linux-64::xorg-libx11-1.6.9-h516909a_0\n",
            "  xorg-libxau        conda-forge/linux-64::xorg-libxau-1.0.9-h14c3975_0\n",
            "  xorg-libxdmcp      conda-forge/linux-64::xorg-libxdmcp-1.1.3-h516909a_0\n",
            "  xorg-libxext       conda-forge/linux-64::xorg-libxext-1.3.4-h516909a_0\n",
            "  xorg-libxrender    conda-forge/linux-64::xorg-libxrender-0.9.10-h516909a_1002\n",
            "  xorg-renderproto   conda-forge/linux-64::xorg-renderproto-0.11.1-h14c3975_1002\n",
            "  xorg-xextproto     conda-forge/linux-64::xorg-xextproto-7.3.0-h14c3975_1002\n",
            "  xorg-xproto        conda-forge/linux-64::xorg-xproto-7.0.31-h14c3975_1007\n",
            "  zstd               conda-forge/linux-64::zstd-1.4.4-h3b9ef0a_2\n",
            "\n",
            "The following packages will be UPDATED:\n",
            "\n",
            "  ca-certificates     pkgs/main::ca-certificates-2020.1.1-0 --> conda-forge::ca-certificates-2020.4.5.1-hecc5488_0\n",
            "  certifi              pkgs/main::certifi-2019.11.28-py37_0 --> conda-forge::certifi-2020.4.5.1-py37hc8dfbb8_0\n",
            "  conda                       pkgs/main::conda-4.8.2-py37_0 --> conda-forge::conda-4.8.3-py37hc8dfbb8_1\n",
            "  openssl              pkgs/main::openssl-1.1.1d-h7b6447c_4 --> conda-forge::openssl-1.1.1f-h516909a_0\n",
            "\n",
            "\n",
            "Preparing transaction: ...working... done\n",
            "Verifying transaction: ...working... done\n",
            "Executing transaction: ...working... done\n",
            "\n",
            "real\t0m37.252s\n",
            "user\t0m30.492s\n",
            "sys\t0m3.315s\n"
          ],
          "name": "stdout"
        }
      ]
    },
    {
      "cell_type": "code",
      "metadata": {
        "id": "7W6lw9ysIZQ-",
        "colab_type": "code",
        "colab": {}
      },
      "source": [
        "import sys\n",
        "sys.path.append('/usr/local/lib/python3.7/site-packages/')"
      ],
      "execution_count": 0,
      "outputs": []
    },
    {
      "cell_type": "code",
      "metadata": {
        "id": "XzNlDjyQSJbV",
        "colab_type": "code",
        "colab": {
          "base_uri": "https://localhost:8080/",
          "height": 136
        },
        "outputId": "4c99bfe4-16c3-4218-913c-aa010ab9951a"
      },
      "source": [
        "!git clone \"https://github.com/PotatoSpudowski/Graph_convolution_basics.git\"\n",
        "%cd \"Graph_convolution_basics\""
      ],
      "execution_count": 6,
      "outputs": [
        {
          "output_type": "stream",
          "text": [
            "Cloning into 'Graph_convolution_basics'...\n",
            "remote: Enumerating objects: 15, done.\u001b[K\n",
            "remote: Counting objects:   6% (1/15)\u001b[K\rremote: Counting objects:  13% (2/15)\u001b[K\rremote: Counting objects:  20% (3/15)\u001b[K\rremote: Counting objects:  26% (4/15)\u001b[K\rremote: Counting objects:  33% (5/15)\u001b[K\rremote: Counting objects:  40% (6/15)\u001b[K\rremote: Counting objects:  46% (7/15)\u001b[K\rremote: Counting objects:  53% (8/15)\u001b[K\rremote: Counting objects:  60% (9/15)\u001b[K\rremote: Counting objects:  66% (10/15)\u001b[K\rremote: Counting objects:  73% (11/15)\u001b[K\rremote: Counting objects:  80% (12/15)\u001b[K\rremote: Counting objects:  86% (13/15)\u001b[K\rremote: Counting objects:  93% (14/15)\u001b[K\rremote: Counting objects: 100% (15/15)\u001b[K\rremote: Counting objects: 100% (15/15), done.\u001b[K\n",
            "remote: Compressing objects:   8% (1/12)\u001b[K\rremote: Compressing objects:  16% (2/12)\u001b[K\rremote: Compressing objects:  25% (3/12)\u001b[K\rremote: Compressing objects:  33% (4/12)\u001b[K\rremote: Compressing objects:  41% (5/12)\u001b[K\rremote: Compressing objects:  50% (6/12)\u001b[K\rremote: Compressing objects:  58% (7/12)\u001b[K\rremote: Compressing objects:  66% (8/12)\u001b[K\rremote: Compressing objects:  75% (9/12)\u001b[K\rremote: Compressing objects:  83% (10/12)\u001b[K\rremote: Compressing objects:  91% (11/12)\u001b[K\rremote: Compressing objects: 100% (12/12)\u001b[K\rremote: Compressing objects: 100% (12/12), done.\u001b[K\n",
            "Unpacking objects:   6% (1/15)   \rUnpacking objects:  13% (2/15)   \rUnpacking objects:  20% (3/15)   \rUnpacking objects:  26% (4/15)   \rUnpacking objects:  33% (5/15)   \rUnpacking objects:  40% (6/15)   \rUnpacking objects:  46% (7/15)   \rUnpacking objects:  53% (8/15)   \rUnpacking objects:  60% (9/15)   \rremote: Total 15 (delta 3), reused 7 (delta 1), pack-reused 0\u001b[K\n",
            "Unpacking objects:  66% (10/15)   \rUnpacking objects:  73% (11/15)   \rUnpacking objects:  80% (12/15)   \rUnpacking objects:  86% (13/15)   \rUnpacking objects:  93% (14/15)   \rUnpacking objects: 100% (15/15)   \rUnpacking objects: 100% (15/15), done.\n",
            "/content/Graph_convolution_basics\n"
          ],
          "name": "stdout"
        }
      ]
    },
    {
      "cell_type": "code",
      "metadata": {
        "id": "k9nhTdaWKjyG",
        "colab_type": "code",
        "outputId": "8d8ea5c6-0d28-4e83-a94f-7505e911ad50",
        "colab": {
          "base_uri": "https://localhost:8080/",
          "height": 391
        }
      },
      "source": [
        "!wget 'https://raw.githubusercontent.com/rdkit/rdkit/master/Docs/Book/data/solubility.train.sdf'\n",
        "!wget 'https://raw.githubusercontent.com/rdkit/rdkit/master/Docs/Book/data/solubility.test.sdf'"
      ],
      "execution_count": 7,
      "outputs": [
        {
          "output_type": "stream",
          "text": [
            "--2020-04-12 02:18:27--  https://raw.githubusercontent.com/rdkit/rdkit/master/Docs/Book/data/solubility.train.sdf\n",
            "Resolving raw.githubusercontent.com (raw.githubusercontent.com)... 151.101.0.133, 151.101.64.133, 151.101.128.133, ...\n",
            "Connecting to raw.githubusercontent.com (raw.githubusercontent.com)|151.101.0.133|:443... connected.\n",
            "HTTP request sent, awaiting response... 200 OK\n",
            "Length: 1376487 (1.3M) [text/plain]\n",
            "Saving to: ‘solubility.train.sdf’\n",
            "\n",
            "\rsolubility.train.sd   0%[                    ]       0  --.-KB/s               \rsolubility.train.sd 100%[===================>]   1.31M  --.-KB/s    in 0.05s   \n",
            "\n",
            "2020-04-12 02:18:28 (24.7 MB/s) - ‘solubility.train.sdf’ saved [1376487/1376487]\n",
            "\n",
            "--2020-04-12 02:18:30--  https://raw.githubusercontent.com/rdkit/rdkit/master/Docs/Book/data/solubility.test.sdf\n",
            "Resolving raw.githubusercontent.com (raw.githubusercontent.com)... 151.101.0.133, 151.101.64.133, 151.101.128.133, ...\n",
            "Connecting to raw.githubusercontent.com (raw.githubusercontent.com)|151.101.0.133|:443... connected.\n",
            "HTTP request sent, awaiting response... 200 OK\n",
            "Length: 245735 (240K) [text/plain]\n",
            "Saving to: ‘solubility.test.sdf’\n",
            "\n",
            "solubility.test.sdf 100%[===================>] 239.98K  --.-KB/s    in 0.03s   \n",
            "\n",
            "2020-04-12 02:18:30 (7.67 MB/s) - ‘solubility.test.sdf’ saved [245735/245735]\n",
            "\n"
          ],
          "name": "stdout"
        }
      ]
    },
    {
      "cell_type": "code",
      "metadata": {
        "id": "fTZL1B9WKfRW",
        "colab_type": "code",
        "colab": {}
      },
      "source": [
        "%matplotlib inline\n",
        "import matplotlib.pyplot as plt\n",
        "from rdkit import Chem\n",
        "from rdkit.Chem import AllChem\n",
        "import numpy as np\n",
        "import torch\n",
        "import torch.nn.functional as F\n",
        "from torch.nn import Linear\n",
        "from torch.nn import BatchNorm1d\n",
        "from torch.utils.data import Dataset\n",
        "from torch_geometric.nn import GCNConv\n",
        "from torch_geometric.nn import SplineConv\n",
        "from torch_geometric.nn import ChebConv\n",
        "from torch_geometric.nn import global_add_pool, global_mean_pool\n",
        "from torch_geometric.data import DataLoader\n",
        "from torch_scatter import scatter_mean\n",
        "from rdkit.Chem.Draw import IPythonConsole\n",
        "from rdkit.Chem import PandasTools\n",
        "from rdkit.Chem import Draw\n",
        "from annoy import AnnoyIndex\n",
        "from tqdm import tqdm\n",
        "\n",
        "import mol2graph\n",
        " \n",
        "plt.style.use(\"ggplot\")\n",
        " \n",
        "train_mols = [m for m in Chem.SDMolSupplier('solubility.train.sdf')]\n",
        "test_mols = [m for m in Chem.SDMolSupplier('solubility.test.sdf')]\n",
        "sol_cls_dict = {'(A) low':0, '(B) medium':1, '(C) high':2}"
      ],
      "execution_count": 0,
      "outputs": []
    },
    {
      "cell_type": "code",
      "metadata": {
        "id": "iwswZn56RoDE",
        "colab_type": "code",
        "colab": {}
      },
      "source": [
        "df = PandasTools.LoadSDF('solubility.train.sdf')"
      ],
      "execution_count": 0,
      "outputs": []
    },
    {
      "cell_type": "code",
      "metadata": {
        "id": "cmKneJDKRtxG",
        "colab_type": "code",
        "outputId": "bff01ca1-1499-49ab-be6d-2eac8cc382e6",
        "colab": {
          "base_uri": "https://localhost:8080/",
          "height": 1000
        }
      },
      "source": [
        "df"
      ],
      "execution_count": 10,
      "outputs": [
        {
          "output_type": "execute_result",
          "data": {
            "text/html": [
              "<div>\n",
              "<style scoped>\n",
              "    .dataframe tbody tr th:only-of-type {\n",
              "        vertical-align: middle;\n",
              "    }\n",
              "\n",
              "    .dataframe tbody tr th {\n",
              "        vertical-align: top;\n",
              "    }\n",
              "\n",
              "    .dataframe thead th {\n",
              "        text-align: right;\n",
              "    }\n",
              "</style>\n",
              "<table border=\"1\" class=\"dataframe\">\n",
              "  <thead>\n",
              "    <tr style=\"text-align: right;\">\n",
              "      <th></th>\n",
              "      <th>ID</th>\n",
              "      <th>NAME</th>\n",
              "      <th>SOL</th>\n",
              "      <th>SOL_classification</th>\n",
              "      <th>smiles</th>\n",
              "      <th>ROMol</th>\n",
              "    </tr>\n",
              "  </thead>\n",
              "  <tbody>\n",
              "    <tr>\n",
              "      <th>0</th>\n",
              "      <td>n-pentane</td>\n",
              "      <td>n-pentane</td>\n",
              "      <td>-3.18</td>\n",
              "      <td>(A) low</td>\n",
              "      <td>CCCCC</td>\n",
              "      <td><img data-content=\"rdkit/molecule\" src=\"data:image/png;base64,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\" alt=\"Mol\"/></td>\n",
              "    </tr>\n",
              "    <tr>\n",
              "      <th>1</th>\n",
              "      <td>cyclopentane</td>\n",
              "      <td>cyclopentane</td>\n",
              "      <td>-2.64</td>\n",
              "      <td>(B) medium</td>\n",
              "      <td>C1CCCC1</td>\n",
              "      <td><img data-content=\"rdkit/molecule\" src=\"data:image/png;base64,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\" alt=\"Mol\"/></td>\n",
              "    </tr>\n",
              "    <tr>\n",
              "      <th>2</th>\n",
              "      <td>n-hexane</td>\n",
              "      <td>n-hexane</td>\n",
              "      <td>-3.84</td>\n",
              "      <td>(A) low</td>\n",
              "      <td>CCCCCC</td>\n",
              "      <td><img data-content=\"rdkit/molecule\" src=\"data:image/png;base64,iVBORw0KGgoAAAANSUhEUgAAAMgAAADICAIAAAAiOjnJAAAABmJLR0QA/wD/AP+gvaeTAAAGYUlEQVR4nO3cPUxTURyG8dPWIogfhPARCTqYdDAOSOoEA4vEkJAwEMPEihuwOXZ1Ih3LRGBk1EESSOzAxgAJRKIJjWhMTKpWSFAptHU4CTFS67W977m1Pr/V1ntueej939NqqFQqGcBv4aAXgMZEWJAgLEgQFiQICxKEBQnCggRhQYKwIEFYkCAsSBAWJAgLEoQFCcKCBGFBgrAgQViQICxIEBYkCAsShAUJwoIEYUGCsCBBWJAgLEgQFiQICxKEBQnCggRhQYKwIEFYkCAsSBAWJAgLEoQFCcKCBGFBgrAgQViQICxIEBYkCAsShAUJwoIEYUGCsCBBWJAgLEgQFiQICxKEBQnCggRhQYKwIEFYkCAsSBAWJAgLEoQFCcKCBGFBgrAgQViQICxIEBYkCAsShAUJwoIEYUGCsCBBWJAgLEgQFiQICxKEBQnCggRhQYKwIEFYkCAsSBAWJAgLEoQFiWDCOjk5+fLlSzabDeTojhUKhc+fP/8nJ3smgLDW1tb6+/snJiZ6e3tnZmYODw/dr8GZdDodj8fHxsZu3Ljx6NGjjx8/Br0iV0oO7e7ujoyM2ON2dHSEQiFjTE9Pz9LSUrFYdLkSBzKZzPj4uD3Z9vb2SCRijOns7EylUqenp0GvTs5RWLlc7vHjxxcvXjTGtLW1PXny5Pv37xsbGwMDA/alv3fv3vr6upvFqB0dHSUSiebmZmPMpUuXEonE169fX758+eDBA3uyt2/fXllZCXqZWvKwCoXC4uJiV1eXMSYcDk9OTn748OHsT4vF4vLy8s2bN40xoVDo4cOHb968US9J54+n8/Tp01u3btm8RkdH9/b2glqqmjasFy9e9PX12ddxaGhoc3Oz7MPK/opLF6bg8Q34+Pg4mUxeuXLFGNPU1DQ9PX1wcOB4qbXb2tpaWFio8ABVWG/fvp2cnLRTVG9v7+Li4h+nqCqeUifev38/NTUVDoftyDg/P18oFLw/5fr1616eUic+ffo0PT0diUSamppev379u4f5H9b5t59v3755f7rHN7k6UePbz8bGxuDg4L8yZebz+bm5uba2NmNMNBqdnZ3N5XK/e7CfYfk1MFUey+qHLwPTvzJlrq6u3rlzx57s/fv3t7e3Kz/et7B8v8UreyPpy1Jr5/stXj1Pma9evRodHbUnG4vFlpeXvTzLh7CqmDC8q+6sdM4mDLs7lUwmfdyUqrcps5bf7ZrCcnaD87fvwwr5fD6ZTJ5NGFNTU9lsVnGgepgya59Gqg/L8ZZMPp+fn5/v6Ogwxly4cEH3cy3Lcdn259rd3R3IlOlL2dWEFeAmsvRKVFaA1+Kfr0SXL19OJBLqKdNei+3J1ngt/ruw3P9cy/ql7OfPnyuOUid3D27KrnGT6DyvYTmbMLzTXYvrcL9Ddy0+v9+xv79f+1/rKaxfzmpnZ6f2A/vC3j1cvXrVx7uHepidy1JMmbrvAfwhrHq72y/Lr49HfJwwdPyaRqSbRKUKYeVyudnZ2Wg0aieMubm5fD7v44F99/PHI/F4/K9++XyfMNRqmTLdbBL9NqxMJtPc3FwnE4ZHVXw8Ipow3KhiynS2SVTpUriwsLC1tSU6sI73j0ca4JuG3qdMx5tETr+a7NK7d+8qfDyinjAcqzxlBrJJ1LBhWel0+u7duz/f4jXG9+zKOj9lBrhJ1OBhlUql09PTVCrV2dlpjIlEIu3t7falHx8fz2QyQa/OZ8VicWlpqaenx46Mdm/CGDMyMrK7u+tyJY0flmW30VtaWgYHBxv+3zLYKbOlpWV4eDgWiz179sz9GkKlUsn8N7LZbCQSuXbtmh04Gls2m41Go62trXbPyLH/Kyw4w//dAAnCggRhQYKwIEFYkCAsSBAWJAgLEoQFCcKCBGFBgrAgQViQICxIEBYkCAsShAUJwoIEYUGCsCBBWJAgLEgQFiQICxKEBQnCggRhQYKwIEFYkCAsSBAWJAgLEoQFCcKCBGFBgrAgQViQICxIEBYkCAsShAUJwoIEYUGCsCBBWJAgLEgQFiQICxKEBQnCggRhQYKwIEFYkCAsSBAWJAgLEoQFCcKCBGFBgrAgQViQICxIEBYkCAsShAUJwoIEYUGCsCBBWJAgLEgQFiQICxKEBQnCggRhQYKwIEFYkCAsSBAWJAgLEoQFCcKCBGFBgrAgQViQICxI/ACxtxv8es3GSQAAAABJRU5ErkJggg==\" alt=\"Mol\"/></td>\n",
              "    </tr>\n",
              "    <tr>\n",
              "      <th>3</th>\n",
              "      <td>2-methylpentane</td>\n",
              "      <td>2-methylpentane</td>\n",
              "      <td>-3.74</td>\n",
              "      <td>(A) low</td>\n",
              "      <td>CCCC(C)C</td>\n",
              "      <td><img data-content=\"rdkit/molecule\" src=\"data:image/png;base64,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\" alt=\"Mol\"/></td>\n",
              "    </tr>\n",
              "    <tr>\n",
              "      <th>4</th>\n",
              "      <td>2,2-dimethylbutane</td>\n",
              "      <td>2,2-dimethylbutane</td>\n",
              "      <td>-3.55</td>\n",
              "      <td>(A) low</td>\n",
              "      <td>CCC(C)(C)C</td>\n",
              "      <td><img data-content=\"rdkit/molecule\" src=\"data:image/png;base64,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\" alt=\"Mol\"/></td>\n",
              "    </tr>\n",
              "    <tr>\n",
              "      <th>...</th>\n",
              "      <td>...</td>\n",
              "      <td>...</td>\n",
              "      <td>...</td>\n",
              "      <td>...</td>\n",
              "      <td>...</td>\n",
              "      <td>...</td>\n",
              "    </tr>\n",
              "    <tr>\n",
              "      <th>1020</th>\n",
              "      <td>Prednisolone-21-Trimethylacetate</td>\n",
              "      <td>Prednisolone-21-Trimethylacetate</td>\n",
              "      <td>-4.58</td>\n",
              "      <td>(A) low</td>\n",
              "      <td>O=C1C=C2CCC3C4CCC(O)(C(=O)COC(=O)C(C)(C)C)C4(C...</td>\n",
              "      <td><img data-content=\"rdkit/molecule\" src=\"data:image/png;base64,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\" alt=\"Mol\"/></td>\n",
              "    </tr>\n",
              "    <tr>\n",
              "      <th>1021</th>\n",
              "      <td>Glycocholic_Acid</td>\n",
              "      <td>Glycocholic_Acid</td>\n",
              "      <td>-5.15</td>\n",
              "      <td>(A) low</td>\n",
              "      <td>O=C(NCC(=O)O)CCC(C(C(C(C(C(C(C(C1)CC(O)C2)(C2)...</td>\n",
              "      <td><img data-content=\"rdkit/molecule\" src=\"data:image/png;base64,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\" alt=\"Mol\"/></td>\n",
              "    </tr>\n",
              "    <tr>\n",
              "      <th>1022</th>\n",
              "      <td>Rolitetracycline</td>\n",
              "      <td>Rolitetracycline</td>\n",
              "      <td>-1.42</td>\n",
              "      <td>(B) medium</td>\n",
              "      <td>c12C(=O)C3=C(O)C4(O)C(=O)C=C(O)C(N(C)C)C4CC3C(...</td>\n",
              "      <td><img data-content=\"rdkit/molecule\" src=\"data:image/png;base64,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\" alt=\"Mol\"/></td>\n",
              "    </tr>\n",
              "    <tr>\n",
              "      <th>1023</th>\n",
              "      <td>Hydrocortisone_Tebutate</td>\n",
              "      <td>Hydrocortisone_Tebutate</td>\n",
              "      <td>-5.51</td>\n",
              "      <td>(A) low</td>\n",
              "      <td>C1C(=O)C=C2CCC3C4CCC(O)(C(=O)COC(=O)CC(C)(C)C)...</td>\n",
              "      <td><img data-content=\"rdkit/molecule\" src=\"data:image/png;base64,iVBORw0KGgoAAAANSUhEUgAAAMgAAADICAIAAAAiOjnJAAAABmJLR0QA/wD/AP+gvaeTAAASCUlEQVR4nO2dfVBU5RrAn7PL1woGISIEaNqCqGh+gSI6flFEQ1NDY2JGaY2bpne1Md20bCuHWi53ai9jzeA06Y5jOtRVh2yM2aFULCNJHSPBES0RCYrlIxDZhd3n/vHauXv5WPbjvC4fz+8PBnbPeXh3z++873veTwERgSCkRubtBBDDExKL4AKJRXCBxCK4QGIRXCCxCC6QWAQXSCyCCyQWwQUSi+ACiUVwgcQiuEBiEVwgsQgukFgEF0gsggskFsEFEovgAolFcIHEIrhAYhFcILEILpBYBBdILIILJBbBBRKL4AKJRXCBxCK4QGIRXCCxCC6QWAQXSCyCCyQWwQUSi+ACiUVwgcQiuEBiEVwgsQgukFgEF0gsggskFsEFEovgAolFcIHEIrhAYhFcILEILpBYBBdILIILJBbBBRKL4AKJRXCBxCK4QGIRXCCxCC6QWAQXSCyCCyQWwQUSi+ACiUVwgcQiuEBiEVwgsQgu+Hg7AcOLo0fh6lUID4c1a7ydFC9DOZakXLoE27fD9eveTof3IbEkBREAQBC8nQ7vIyD7LggPaWuDQ4egqgrCw+HKFViwANat83aavAmJJRE3bsCDD8KECfDrryCTgSCAzebtNHkTKgolQiYDALDZ7paDI/52JbEkwt4nUbIRDIklEfYykVjUjiUVnTJZQ3Ly7dDQqQCVCxeC1ToZcSTftVR5l4aGhoaIiIhx48bV19f7+/tbLBaz2ezn5+ftdHmNkXxTSYkgCADA7lKZTAYAtpFdFJJY0mAvk71kIxaqY0kDk8lms3V2dkqZY0nd+VheXh4SElJfX79w4UJJAvYH5VjS4Ovrm5ycbLFY1q5di4hJSUlML/cxm+G77/7X+XjyJNy+7Uk8k8m0efPm+fPnZ2ZmLlq06IknnrjuWZ/mAFkyjmR2777788gRzM3FffvcC1NcXDxjxgz2fY4dO5b9smDBgrKyMjcTZjTilCmoUOCWLYiIr76KgYH4wANYUIDd3a4Gs1gsH3zwQXBwMAD4+fktXrw4MDAQAAICAnbs2NHW1uZqwKamJrVavXLlSgfHkFiIu3fj228jIq5bh2vW4I0bzge4fPnyihUrmEkxMTEFBQXd3d0GgyEyMhIABEFYsWLFb7/95kKSKisxLQ0BEAATEvBf/0KdDnNyMDHx7ouJiXjmjPPxSkpKEhISWApTU1N/+eUXRLx165ZKpWJ5alhYmF6v73bO1+7u7o8//njMmDEA4Ovre/Xq1f6OHNliaTT44Ye4cSNqtYiIsbEIgAEB+NpraDI5PpVdG7lcDgBBQUFarfbOnTviu+3t7VqtVqFQAMCoUaM0Gs1ff/01QGLa21GrRX9/BMCQENTrsavrf+9arWgwYFQUAqAg4MqVtoF8rampyc7OZkrFxsZ++eWXPQ4oLy9ftGgRO2DWrFknT550HPDUqVMPP/wwO37p0qWXLl1ycPDIFkvMsf7zH9TpMC8PV69GmYxd2pZ//7ujo6P3Se3t7TqdbvTo0eyuValUDQ0NfYa/efNmdnY2q9dHRUUVFBRYrdbeh9lsNoPB8I+UFJTJUCbD7GzsJyDevo06HQYF2QRh4cMPq9Xq1tbWvo66rdVqAwICACAwMFCr1XZ2dvb3HRQVFU2cOJHpkpGRUV1d3fuY2tpa8YNER0cbDIb+oomMbLH6pKICV6xAgPfmzWM2dP2dc1itVoPBEBERIV4GB2WBSFlZ2YIFC9gpc+fOLS0ttX/37NmziYmJ7N2f167F8+cHTmFNzenXXmOXOTIyct++ffa+FhUVTZgwgRXE2dnZv//++4DxzGazXq+/77772K2iVqtbWlrs3woKCmJZb4+M2QEkVt90fPONeL2nTp167Ngxo9E4ffp09kpSUtLp06edj2az2QoLC9n1ZkZev369rq5OrOg88MADBoPBZrM5H/PcuXNik8Hs2bNPnTp1/vx5sWibM2fOd99959JHZulhhfuYMWP0ev2xY8fsM7Nff/3V+WjDU6zW1tYjR44cP378zz//dDuIzWY7fPiwUqm0f4hWKpVffPGFSwaItLe379q1i1W8/P392S8BAQFvvPFGe3u7eyn87LPPYmJiWNpYHhYREdEjD3MJ+4oXY+bMmadOnXI1zqARS6Inf1ZfiYiIkMvlCoUiJCREr9d32deCXaGlpUWtVrNMRRAEQRBWr17tTOHiAFZfGTt2rFKpzMjIuHbtmifREPGTTz5RKpUxMTEJCQnh4eE7duzwMCAiFhYWMu8B4Mknn3SmxO/B4BOLPfnv2oV1da7GOHPmzJw5c8TSKiUlhf0+Y8aMAR95eiAKCgAymWzVqlXbtm1zsjrsDCaTqampyZMIIu+88w4A7Nq169NPPwWANWvWSBKWNciJzyhqtbq5udn50weNWD2e/DMzcdQo1GhwwKd0RES8deuW/fOXWF8pKiqaNGmSq7WECxcuiFImJiaK7ZxXr14VW61iY2MLCwvd+qgS8+677zKx9u/fDwAvvPCCJGHDw8MBoLKyUq1Ws4pXaGio89n/oBGrx5P/Y4+hICAARkWhwYD91xjYYwu7sRQKhUaj6dGU7NJzDWtTZt9jZGRknxXqkpISsRafmppaUVHh0Qf3mN27dwPAm2++aTAYAOD555+XJCzLrVm5f/78+cWLF7OPHB8f/9VXXw14+qARqzdnzojNzTdXruzxlM7o0QbjIEOyb4mJiYnp3RLDyj52m/r4+PTXRMTo6uoqKCgICwtzr5iQlpycHADYuXPngQMHAOC5556TJCzrPKizq5AUFRU99NBDTt5Rg1gsRLTZsLDQplQ++uCDTB2xqltZWZmWlsY+5KxZs5x8bDl58qTYqbd8+XLxqykvL58/fz57fcmSJT///LMz0UwmU49iwsmOEWn5Iz/fNHt2w3vvmT7/3DR7dv3mzZKEjYqKAoDa2lr7Fzs7O3Nzc8UWrwsXLvR3+uAWCxER77S3v/3222K/6ZYtW9avX+/j4+Pe5eyR2ahUqvXr17PnPlY5czV5Fy9eXLJkidiedO7cOVcjeIpOhwCo0eBnnyEArlolSdTo6GgAuHnzZu+3Ghsb1Wr1okWLHDS7DAGxGGK/KZOAOdHY2OheNJPJtGnTJplMxgpHVpwN3J3XP6xQFgTh/fffd7JtWjJycxEAt2/HQ4cQALOyJInKmsdqamr6O8BisTg4fciIxSgtLWUeVFZWehLnxIkT8fHxLJvx8/Nzo52mNx0dHaGhof3d5Rz55z8RALdtw8OHEQAdjmZxHtZP4NrQDDuG2EC/pKQkABAEQdTCVaqrq5955pn09PSqqipWFVUoFD2a191DoVCIjYr3FHG2maTTzjwcYD3EhiazmrLVanXj3Nu3b+fl5el0OrPZHBQUtHXr1g0bNog9ykOYJ56A8eMhLg4iI8FohPBwSaKOOLEEQWAdYYLTi7og4oEDBzQaTX19Pevzz8vLGzduXEtLC9fU3iPi4iAuDo4eheJiCA+H1FRJono4cn+IiQUAMpnMarXabDaWew1IeXm5Wq0+e/YsACQmJubn54stC8OKS5dAq4W33pIq3ssvv2wymUJCQtw7feiJJZfLrVar1Wp1Rqzq6up58+bZbLbo6Ojc3NxVq1Y5n88NMaRemmvbtm2enD4kxQKnq1lKpfKll14aN27c66+/zlrChi0zZkBuLvzdMep1hrlYALB3716eyRk0ZGZ6OwX/xxBrbgDPHgyJe8ZQFau7u9vbCSEcMYjEiomJEQShtrbW8WGsl5ByrEHOIBKLNZwMaAwVhUOCQSSWk8aQWEOCQfRUyIwZsKlXcrFsNpv98hghISH9tXUFBgaO5LXUXIK7WHV1daWlpXfu3HnkkUfY2LH+cMaYioqK5uZmACgqKtq0aZMnrZ1dXV179+4dNWpUW1ubODDSbXx9fYOCglpbWz2MM3yQZIhFn1gsFja/1tfXVy6XsyUMHAzhnTp1KgCwVSt609jY+Morr7CaO/uZnJx89uxZ99J25MgRUaaoqKhJdoSGht7fD85kV1VVVe7NOhxm8BLr2LFj4pVLT0/PyMhguUtYWNiHH35oNpt7n8JmKPReasJisYhjPn18fNatW7dnzx42Ihv6X26gPy5fvvzYY4+xc52cF+AMZrO5qampqanJ7Zmiwwzpxbpy5crjjz8uXrkTJ06w13/88celS5ey18UVf+xPnDlzJgD0GEZtNBrFVXiWL18uatdjZQ5npjP0HqLu9kRWYkCkFKu5uVmj0bDy4v777+/zyhmNRiYQAEybNs1+bR0217S8vJz9eeXKlYyMDHZkf5P4amtrxeUGQkNDdTpdn/NIWaHMOurZmGZPpt4TziCNWGwZFjZ3SiaTZWdn//HHHw4OLiwsFKdtpaam/vTTT4jIRoeWlZU1NTWJgoaEhPSni0hFRUV6ejqLFhcX10NBo9HIam8wOKYBjhAkEKusrGzevHnsyi1evPjixYvOnMXmkbJchK18N2vWLADQaDT2gva39FRv7AvN5OTk77//vrKyUiyUJ0+efPz4cQ8+JeEaHonV2tqalZXFauUTJkxwY8q5yWTaunWrv78//N3y3rs65TwWi2XPnj2smi+TycQiMj8/n6pT9xiPxDIajZMmTQoICOg9sd0lampqVCqVIAijR4+OiorycE2EtrY2rVYbFBQUHBz84osvOiiUCX54JFZqaioAHDx4UJKksPLUaDRKEo3N1nUwTZ7gigR9heIC1B7CFglijZ+eQ12K3mUQdUJLCw3b8i7DViwatuVdhq1YVBR6FxKL4AKJRXBhmItFlXdvMWzFosq7dxm2YlFR6F1ILIILJBbBBffFOnr0qNlsliodhw8f7urqkioaUOXd27gjVmVlZXp6emZmZnV1NUixq3ZOTs6zzz5bUVEBAG1tbR5GAwA2Ah0ox/IiLnVZNzQ0iEOBw8LCnn766YkTJ8bHx7u0x5o9Nptt69atACCXy1Uq1fjx44ODgz0cjV5SUjJlyhQA2L59uyeDeQhPcFossxnz8s6npQGAr6/vq6++2tzcfOjQIbaVCNsWq8di806ENGdlZQGAv7//xo0b09LSfH19me7Tp08vKSlx9cPcuHEj8+/VfBISEvrczIK4Nzgn1tGjqFQiAPr4vPX881VVVRUVFY8++ii7hNnZ2W7swNne3s6Gc8nlcnGojEKh+Oijj1h+A/+/FYVj2HQJNmmH7c7V5wwz4p4xkFh1dbhs2d3906dNw+LiLruJo2wSlcViYZsfMxuUSmXvfa3t6ezsPHjwoP0oLrlcnpKSUlBQwMbliTNdAcDPz8/xtjaI+O23306bNk108YYr29ATnBhILLMZ4+IwNBT1euzowIICDAvbnZTk4+OjUql6jPr95ptvxOkMqamply9ftn+3u7u7tLRUpVKx7I0xZ84cvV5fX1/f+z/32Nm2z5262W5yLFRsbOzXX3/tzndAcMChWGyz03ffxaYmPH4cJ09mWVfr6tX9TYTv6urS6/XBwcFgt4/I6dOnN2zYwOY4iERHRzszn6e8vFzcOnDu3LniPsfsH7FcjRXBHu5MSUiLQ7HEzU537rxbGsbHoxNz0tkmPmJmM3nyZGbGxIkT2d4NS5cudX40Otupe/z48fD3RLHPP/9czBozMjLc3paD4IdDsdhmp2+9hRUVOHYs6nToSq7www8/iBvBL1u2LD8/n1n11FNPubGNUVtb244dO9i4eBYnLi6uuLjY1TjEvcGhWGyz0/37ERE7OtyIznaXnDJlyt69e1nr18aNGz1ZNuPatWtZWVl79uzJycmhsm8wI6C7m6U4DyJeu3YtJSVl7dq1Op2O978jBgP3QixGY2Njj/o7MYy5d2IRI4phO2yG8C4kFsEFEovgAolFcIHEIrhAYhFcILEILpBYBBdILIILJBbBBRKL4AKJRXCBxCK4QGIRXCCxCC6QWAQXSCyCCyQWwQUSi+ACiUVwgcQiuEBiEVwgsQgukFgEF0gsggskFsEFEovgAolFcIHEIrhAYhFcILEILpBYBBdILIILJBbBBRKL4AKJRXCBxCK4QGIRXCCxCC6QWAQXSCyCCyQWwQUSi+ACiUVwgcQiuEBiEVwgsQgukFgEF0gsggskFsEFEovgAolFcIHEIrhAYhFcILEILpBYBBdILIILJBbBBRKL4MJ/AfEI+UlV4xbFAAAAAElFTkSuQmCC\" alt=\"Mol\"/></td>\n",
              "    </tr>\n",
              "    <tr>\n",
              "      <th>1024</th>\n",
              "      <td>Natamycin</td>\n",
              "      <td>Natamycin</td>\n",
              "      <td>-3.21</td>\n",
              "      <td>(A) low</td>\n",
              "      <td>O1C(C)C(O)C(N)C(O)C1OC2C=CC=CC=CC=CCC(C)OC(=O)...</td>\n",
              "      <td><img data-content=\"rdkit/molecule\" src=\"data:image/png;base64,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\" alt=\"Mol\"/></td>\n",
              "    </tr>\n",
              "  </tbody>\n",
              "</table>\n",
              "<p>1025 rows × 6 columns</p>\n",
              "</div>"
            ],
            "text/plain": [
              "                                    ID  ...                                              ROMol\n",
              "0                            n-pentane  ...  <img data-content=\"rdkit/molecule\" src=\"data:i...\n",
              "1                         cyclopentane  ...  <img data-content=\"rdkit/molecule\" src=\"data:i...\n",
              "2                             n-hexane  ...  <img data-content=\"rdkit/molecule\" src=\"data:i...\n",
              "3                      2-methylpentane  ...  <img data-content=\"rdkit/molecule\" src=\"data:i...\n",
              "4                   2,2-dimethylbutane  ...  <img data-content=\"rdkit/molecule\" src=\"data:i...\n",
              "...                                ...  ...                                                ...\n",
              "1020  Prednisolone-21-Trimethylacetate  ...  <img data-content=\"rdkit/molecule\" src=\"data:i...\n",
              "1021                  Glycocholic_Acid  ...  <img data-content=\"rdkit/molecule\" src=\"data:i...\n",
              "1022                  Rolitetracycline  ...  <img data-content=\"rdkit/molecule\" src=\"data:i...\n",
              "1023           Hydrocortisone_Tebutate  ...  <img data-content=\"rdkit/molecule\" src=\"data:i...\n",
              "1024                         Natamycin  ...  <img data-content=\"rdkit/molecule\" src=\"data:i...\n",
              "\n",
              "[1025 rows x 6 columns]"
            ]
          },
          "metadata": {
            "tags": []
          },
          "execution_count": 10
        }
      ]
    },
    {
      "cell_type": "markdown",
      "metadata": {
        "id": "L03vDJDeVNG8",
        "colab_type": "text"
      },
      "source": [
        "##Let us look at the data that will be given as an input to the model that we will be building."
      ]
    },
    {
      "cell_type": "code",
      "metadata": {
        "id": "kW6Io3ZIbJ34",
        "colab_type": "code",
        "outputId": "be103690-2b26-46ca-8a2c-31afd7152697",
        "colab": {
          "base_uri": "https://localhost:8080/",
          "height": 85
        }
      },
      "source": [
        "print(df['NAME'][0])\n",
        "print(df['smiles'][0])\n",
        "vec = mol2graph.mol2vec(train_mols[0])\n",
        "print(vec)\n",
        "print(vec.x.shape)"
      ],
      "execution_count": 11,
      "outputs": [
        {
          "output_type": "stream",
          "text": [
            "n-pentane\n",
            "CCCCC\n",
            "Data(edge_attr=[8, 6], edge_index=[2, 8], x=[5, 75])\n",
            "torch.Size([5, 75])\n"
          ],
          "name": "stdout"
        }
      ]
    },
    {
      "cell_type": "code",
      "metadata": {
        "id": "jfkCqo7oXUpo",
        "colab_type": "code",
        "colab": {
          "base_uri": "https://localhost:8080/",
          "height": 85
        },
        "outputId": "0155086a-349e-4fe5-acf0-7e7e07f2ed14"
      },
      "source": [
        "print(df['NAME'][3])\n",
        "print(df['smiles'][3])\n",
        "vec = mol2graph.mol2vec(train_mols[3])\n",
        "print(vec)\n",
        "print(vec.x.shape)"
      ],
      "execution_count": 12,
      "outputs": [
        {
          "output_type": "stream",
          "text": [
            "2-methylpentane\n",
            "CCCC(C)C\n",
            "Data(edge_attr=[10, 6], edge_index=[2, 10], x=[6, 75])\n",
            "torch.Size([6, 75])\n"
          ],
          "name": "stdout"
        }
      ]
    },
    {
      "cell_type": "code",
      "metadata": {
        "id": "bxpF2XQAXdcF",
        "colab_type": "code",
        "colab": {
          "base_uri": "https://localhost:8080/",
          "height": 85
        },
        "outputId": "8ca3e499-28af-492d-b9d7-0f7bbf4ef190"
      },
      "source": [
        "print(df['NAME'][76])\n",
        "print(df['smiles'][76])\n",
        "vec = mol2graph.mol2vec(train_mols[76])\n",
        "print(vec)\n",
        "print(vec.x.shape)"
      ],
      "execution_count": 13,
      "outputs": [
        {
          "output_type": "stream",
          "text": [
            "perylene\n",
            "c(c(ccc1)ccc2)(c1c(c(c(cc3)ccc4)c45)c3)c25\n",
            "Data(edge_attr=[48, 6], edge_index=[2, 48], x=[20, 75])\n",
            "torch.Size([20, 75])\n"
          ],
          "name": "stdout"
        }
      ]
    },
    {
      "cell_type": "markdown",
      "metadata": {
        "id": "ivvV4C4wX5DQ",
        "colab_type": "text"
      },
      "source": [
        "Vector x shape depends on the no of atoms present in the molecule but every molecule is one hot encoded to the same size in all the molecules.\n",
        "That is 75."
      ]
    },
    {
      "cell_type": "markdown",
      "metadata": {
        "id": "o2OxCmqIXpP_",
        "colab_type": "text"
      },
      "source": [
        "##Building Dataloaders"
      ]
    },
    {
      "cell_type": "code",
      "metadata": {
        "id": "twBuOAv9LSmZ",
        "colab_type": "code",
        "colab": {}
      },
      "source": [
        "train_X = [mol2graph.mol2vec(m) for m in train_mols]\n",
        "for i, data in enumerate(train_X):\n",
        "    y = sol_cls_dict[train_mols[i].GetProp('SOL_classification')]\n",
        "    data.y = torch.tensor([y], dtype=torch.long)\n",
        " \n",
        "test_X = [mol2graph.mol2vec(m) for m in test_mols]\n",
        "for i, data in enumerate(test_X):\n",
        "    y = sol_cls_dict[test_mols[i].GetProp('SOL_classification')]\n",
        "    data.y = torch.tensor([y], dtype=torch.long)\n",
        "train_loader = DataLoader(train_X, batch_size=64, shuffle=True, drop_last=True)\n",
        "test_loader = DataLoader(test_X, batch_size=64, shuffle=True, drop_last=True)"
      ],
      "execution_count": 0,
      "outputs": []
    },
    {
      "cell_type": "markdown",
      "metadata": {
        "id": "Nbbum6UPYbWT",
        "colab_type": "text"
      },
      "source": [
        "##Building a Model"
      ]
    },
    {
      "cell_type": "code",
      "metadata": {
        "id": "1nFWQUavLoJf",
        "colab_type": "code",
        "colab": {}
      },
      "source": [
        "n_features = 75\n",
        "class GCN(torch.nn.Module):\n",
        "    def __init__(self):\n",
        "        super(GCN, self).__init__()\n",
        "        self.conv1 = GCNConv(n_features, 128, cached=False)\n",
        "        self.bn1 = BatchNorm1d(128)\n",
        "        self.conv2 = GCNConv(128, 64, cached=False)\n",
        "        self.bn2 = BatchNorm1d(64)\n",
        "        self.fc1 = Linear(64, 64)\n",
        "        self.bn3 = BatchNorm1d(64)\n",
        "        self.fc2 = Linear(64, 64)\n",
        "        self.fc3 = Linear(64, 3)\n",
        "         \n",
        "    def forward(self, data):\n",
        "        x, edge_index = data.x, data.edge_index\n",
        "        x = F.relu(self.conv1(x, edge_index))\n",
        "        x = self.bn1(x)\n",
        "        x = F.relu(self.conv2(x, edge_index))\n",
        "        x = self.bn2(x)\n",
        "        x = global_add_pool(x, data.batch)\n",
        "        x = F.relu(self.fc1(x))\n",
        "        x = self.bn3(x)\n",
        "        x = F.relu(self.fc2(x))\n",
        "        x = F.dropout(x, p=0.2, training=self.training)\n",
        "        x = self.fc3(x)\n",
        "        x = F.log_softmax(x, dim=1)\n",
        "        return x "
      ],
      "execution_count": 0,
      "outputs": []
    },
    {
      "cell_type": "markdown",
      "metadata": {
        "id": "0Yf5HehBS0_t",
        "colab_type": "text"
      },
      "source": [
        "##Training"
      ]
    },
    {
      "cell_type": "code",
      "metadata": {
        "id": "_8fTOvnDLpp3",
        "colab_type": "code",
        "outputId": "29b94d2d-8a94-4628-a1ec-e1d4d197941a",
        "colab": {
          "base_uri": "https://localhost:8080/",
          "height": 1000
        }
      },
      "source": [
        "device = torch.device('cuda' if torch.cuda.is_available() else 'cpu')\n",
        "model = GCN().to(device)\n",
        "optimizer = torch.optim.Adam(model.parameters(), lr=0.01)\n",
        "def train(epoch):\n",
        "    model.train()\n",
        "    loss_all = 0\n",
        "    for data in train_loader:\n",
        "        data = data.to(device)\n",
        "        optimizer.zero_grad()\n",
        "        output = model(data)\n",
        "        loss = F.nll_loss(output, data.y)\n",
        "        loss.backward()\n",
        "        loss_all += loss.item() * data.num_graphs\n",
        "        optimizer.step()\n",
        "    return loss_all / len(train_X)\n",
        "def test(loader):\n",
        "    model.eval()\n",
        "    correct = 0\n",
        "    for data in loader:\n",
        "        data = data.to(device)\n",
        "        output = model(data)\n",
        "        pred = output.max(dim=1)[1]\n",
        "        correct += pred.eq(data.y).sum().item()\n",
        "    return correct / len(loader.dataset)\n",
        "hist = {\"loss\":[], \"acc\":[], \"test_acc\":[]}\n",
        "for epoch in range(1, 101):\n",
        "    train_loss = train(epoch)\n",
        "    train_acc = test(train_loader)\n",
        "    test_acc = test(test_loader)\n",
        "    hist[\"loss\"].append(train_loss)\n",
        "    hist[\"acc\"].append(train_acc)\n",
        "    hist[\"test_acc\"].append(test_acc)\n",
        "    print(f'Epoch: {epoch}, Train loss: {train_loss:.3}, Train_acc: {train_acc:.3}, Test_acc: {test_acc:.3}')"
      ],
      "execution_count": 18,
      "outputs": [
        {
          "output_type": "stream",
          "text": [
            "Epoch: 1, Train loss: 0.856, Train_acc: 0.485, Test_acc: 0.482\n",
            "Epoch: 2, Train loss: 0.663, Train_acc: 0.736, Test_acc: 0.747\n",
            "Epoch: 3, Train loss: 0.556, Train_acc: 0.812, Test_acc: 0.794\n",
            "Epoch: 4, Train loss: 0.497, Train_acc: 0.814, Test_acc: 0.79\n",
            "Epoch: 5, Train loss: 0.475, Train_acc: 0.772, Test_acc: 0.732\n",
            "Epoch: 6, Train loss: 0.393, Train_acc: 0.818, Test_acc: 0.786\n",
            "Epoch: 7, Train loss: 0.401, Train_acc: 0.854, Test_acc: 0.774\n",
            "Epoch: 8, Train loss: 0.379, Train_acc: 0.879, Test_acc: 0.794\n",
            "Epoch: 9, Train loss: 0.408, Train_acc: 0.772, Test_acc: 0.751\n",
            "Epoch: 10, Train loss: 0.379, Train_acc: 0.826, Test_acc: 0.778\n",
            "Epoch: 11, Train loss: 0.354, Train_acc: 0.773, Test_acc: 0.743\n",
            "Epoch: 12, Train loss: 0.366, Train_acc: 0.872, Test_acc: 0.794\n",
            "Epoch: 13, Train loss: 0.397, Train_acc: 0.841, Test_acc: 0.77\n",
            "Epoch: 14, Train loss: 0.332, Train_acc: 0.878, Test_acc: 0.817\n",
            "Epoch: 15, Train loss: 0.355, Train_acc: 0.881, Test_acc: 0.833\n",
            "Epoch: 16, Train loss: 0.327, Train_acc: 0.876, Test_acc: 0.821\n",
            "Epoch: 17, Train loss: 0.309, Train_acc: 0.894, Test_acc: 0.813\n",
            "Epoch: 18, Train loss: 0.317, Train_acc: 0.862, Test_acc: 0.778\n",
            "Epoch: 19, Train loss: 0.402, Train_acc: 0.826, Test_acc: 0.782\n",
            "Epoch: 20, Train loss: 0.331, Train_acc: 0.832, Test_acc: 0.732\n",
            "Epoch: 21, Train loss: 0.341, Train_acc: 0.886, Test_acc: 0.77\n",
            "Epoch: 22, Train loss: 0.353, Train_acc: 0.891, Test_acc: 0.844\n",
            "Epoch: 23, Train loss: 0.264, Train_acc: 0.9, Test_acc: 0.79\n",
            "Epoch: 24, Train loss: 0.291, Train_acc: 0.855, Test_acc: 0.786\n",
            "Epoch: 25, Train loss: 0.313, Train_acc: 0.872, Test_acc: 0.747\n",
            "Epoch: 26, Train loss: 0.279, Train_acc: 0.884, Test_acc: 0.798\n",
            "Epoch: 27, Train loss: 0.296, Train_acc: 0.917, Test_acc: 0.774\n",
            "Epoch: 28, Train loss: 0.314, Train_acc: 0.873, Test_acc: 0.786\n",
            "Epoch: 29, Train loss: 0.314, Train_acc: 0.883, Test_acc: 0.763\n",
            "Epoch: 30, Train loss: 0.294, Train_acc: 0.879, Test_acc: 0.786\n",
            "Epoch: 31, Train loss: 0.28, Train_acc: 0.903, Test_acc: 0.77\n",
            "Epoch: 32, Train loss: 0.286, Train_acc: 0.897, Test_acc: 0.813\n",
            "Epoch: 33, Train loss: 0.286, Train_acc: 0.902, Test_acc: 0.786\n",
            "Epoch: 34, Train loss: 0.274, Train_acc: 0.898, Test_acc: 0.802\n",
            "Epoch: 35, Train loss: 0.271, Train_acc: 0.933, Test_acc: 0.813\n",
            "Epoch: 36, Train loss: 0.23, Train_acc: 0.898, Test_acc: 0.767\n",
            "Epoch: 37, Train loss: 0.244, Train_acc: 0.929, Test_acc: 0.798\n",
            "Epoch: 38, Train loss: 0.249, Train_acc: 0.928, Test_acc: 0.825\n",
            "Epoch: 39, Train loss: 0.295, Train_acc: 0.909, Test_acc: 0.821\n",
            "Epoch: 40, Train loss: 0.298, Train_acc: 0.865, Test_acc: 0.759\n",
            "Epoch: 41, Train loss: 0.31, Train_acc: 0.843, Test_acc: 0.763\n",
            "Epoch: 42, Train loss: 0.273, Train_acc: 0.931, Test_acc: 0.802\n",
            "Epoch: 43, Train loss: 0.263, Train_acc: 0.925, Test_acc: 0.786\n",
            "Epoch: 44, Train loss: 0.248, Train_acc: 0.929, Test_acc: 0.821\n",
            "Epoch: 45, Train loss: 0.212, Train_acc: 0.927, Test_acc: 0.833\n",
            "Epoch: 46, Train loss: 0.279, Train_acc: 0.875, Test_acc: 0.794\n",
            "Epoch: 47, Train loss: 0.286, Train_acc: 0.901, Test_acc: 0.786\n",
            "Epoch: 48, Train loss: 0.29, Train_acc: 0.941, Test_acc: 0.798\n",
            "Epoch: 49, Train loss: 0.228, Train_acc: 0.926, Test_acc: 0.79\n",
            "Epoch: 50, Train loss: 0.223, Train_acc: 0.927, Test_acc: 0.79\n",
            "Epoch: 51, Train loss: 0.243, Train_acc: 0.909, Test_acc: 0.805\n",
            "Epoch: 52, Train loss: 0.284, Train_acc: 0.888, Test_acc: 0.79\n",
            "Epoch: 53, Train loss: 0.22, Train_acc: 0.931, Test_acc: 0.805\n",
            "Epoch: 54, Train loss: 0.227, Train_acc: 0.895, Test_acc: 0.805\n",
            "Epoch: 55, Train loss: 0.265, Train_acc: 0.901, Test_acc: 0.79\n",
            "Epoch: 56, Train loss: 0.243, Train_acc: 0.915, Test_acc: 0.813\n",
            "Epoch: 57, Train loss: 0.275, Train_acc: 0.878, Test_acc: 0.759\n",
            "Epoch: 58, Train loss: 0.256, Train_acc: 0.919, Test_acc: 0.805\n",
            "Epoch: 59, Train loss: 0.186, Train_acc: 0.939, Test_acc: 0.813\n",
            "Epoch: 60, Train loss: 0.203, Train_acc: 0.933, Test_acc: 0.837\n",
            "Epoch: 61, Train loss: 0.203, Train_acc: 0.938, Test_acc: 0.837\n",
            "Epoch: 62, Train loss: 0.202, Train_acc: 0.912, Test_acc: 0.829\n",
            "Epoch: 63, Train loss: 0.238, Train_acc: 0.915, Test_acc: 0.821\n",
            "Epoch: 64, Train loss: 0.217, Train_acc: 0.923, Test_acc: 0.774\n",
            "Epoch: 65, Train loss: 0.238, Train_acc: 0.953, Test_acc: 0.817\n",
            "Epoch: 66, Train loss: 0.169, Train_acc: 0.938, Test_acc: 0.794\n",
            "Epoch: 67, Train loss: 0.185, Train_acc: 0.866, Test_acc: 0.79\n",
            "Epoch: 68, Train loss: 0.224, Train_acc: 0.922, Test_acc: 0.809\n",
            "Epoch: 69, Train loss: 0.217, Train_acc: 0.932, Test_acc: 0.809\n",
            "Epoch: 70, Train loss: 0.194, Train_acc: 0.916, Test_acc: 0.79\n",
            "Epoch: 71, Train loss: 0.222, Train_acc: 0.95, Test_acc: 0.837\n",
            "Epoch: 72, Train loss: 0.181, Train_acc: 0.952, Test_acc: 0.805\n",
            "Epoch: 73, Train loss: 0.235, Train_acc: 0.917, Test_acc: 0.778\n",
            "Epoch: 74, Train loss: 0.215, Train_acc: 0.918, Test_acc: 0.802\n",
            "Epoch: 75, Train loss: 0.214, Train_acc: 0.933, Test_acc: 0.813\n",
            "Epoch: 76, Train loss: 0.245, Train_acc: 0.923, Test_acc: 0.809\n",
            "Epoch: 77, Train loss: 0.236, Train_acc: 0.934, Test_acc: 0.809\n",
            "Epoch: 78, Train loss: 0.193, Train_acc: 0.94, Test_acc: 0.782\n",
            "Epoch: 79, Train loss: 0.202, Train_acc: 0.958, Test_acc: 0.817\n",
            "Epoch: 80, Train loss: 0.159, Train_acc: 0.939, Test_acc: 0.829\n",
            "Epoch: 81, Train loss: 0.202, Train_acc: 0.955, Test_acc: 0.813\n",
            "Epoch: 82, Train loss: 0.179, Train_acc: 0.963, Test_acc: 0.817\n",
            "Epoch: 83, Train loss: 0.168, Train_acc: 0.955, Test_acc: 0.821\n",
            "Epoch: 84, Train loss: 0.178, Train_acc: 0.947, Test_acc: 0.821\n",
            "Epoch: 85, Train loss: 0.169, Train_acc: 0.953, Test_acc: 0.805\n",
            "Epoch: 86, Train loss: 0.164, Train_acc: 0.967, Test_acc: 0.805\n",
            "Epoch: 87, Train loss: 0.146, Train_acc: 0.933, Test_acc: 0.782\n",
            "Epoch: 88, Train loss: 0.173, Train_acc: 0.955, Test_acc: 0.79\n",
            "Epoch: 89, Train loss: 0.172, Train_acc: 0.952, Test_acc: 0.817\n",
            "Epoch: 90, Train loss: 0.166, Train_acc: 0.956, Test_acc: 0.778\n",
            "Epoch: 91, Train loss: 0.151, Train_acc: 0.967, Test_acc: 0.798\n",
            "Epoch: 92, Train loss: 0.137, Train_acc: 0.959, Test_acc: 0.817\n",
            "Epoch: 93, Train loss: 0.169, Train_acc: 0.961, Test_acc: 0.833\n",
            "Epoch: 94, Train loss: 0.141, Train_acc: 0.921, Test_acc: 0.802\n",
            "Epoch: 95, Train loss: 0.177, Train_acc: 0.956, Test_acc: 0.786\n",
            "Epoch: 96, Train loss: 0.247, Train_acc: 0.944, Test_acc: 0.809\n",
            "Epoch: 97, Train loss: 0.182, Train_acc: 0.965, Test_acc: 0.786\n",
            "Epoch: 98, Train loss: 0.139, Train_acc: 0.964, Test_acc: 0.817\n",
            "Epoch: 99, Train loss: 0.149, Train_acc: 0.944, Test_acc: 0.825\n",
            "Epoch: 100, Train loss: 0.144, Train_acc: 0.968, Test_acc: 0.817\n"
          ],
          "name": "stdout"
        }
      ]
    },
    {
      "cell_type": "code",
      "metadata": {
        "id": "4pnKECoiYlsG",
        "colab_type": "code",
        "colab": {
          "base_uri": "https://localhost:8080/",
          "height": 301
        },
        "outputId": "6670dc0c-a121-4311-866e-596264317472"
      },
      "source": [
        "ax = plt.subplot(1,1,1)\n",
        "ax.plot([e for e in range(1,101)], hist[\"loss\"], label=\"train_loss\")\n",
        "ax.plot([e for e in range(1,101)], hist[\"acc\"], label=\"train_acc\")\n",
        "ax.plot([e for e in range(1,101)], hist[\"test_acc\"], label=\"test_acc\")\n",
        "plt.xlabel(\"epoch\")\n",
        "ax.legend()"
      ],
      "execution_count": 19,
      "outputs": [
        {
          "output_type": "execute_result",
          "data": {
            "text/plain": [
              "<matplotlib.legend.Legend at 0x7f6c059a75c0>"
            ]
          },
          "metadata": {
            "tags": []
          },
          "execution_count": 19
        },
        {
          "output_type": "display_data",
          "data": {
            "image/png": "[encoded data removed]",
            "text/plain": [
              "<Figure size 432x288 with 1 Axes>"
            ]
          },
          "metadata": {
            "tags": []
          }
        }
      ]
    },
    {
      "cell_type": "markdown",
      "metadata": {
        "id": "qN-pnNrESqAC",
        "colab_type": "text"
      },
      "source": [
        "##Build a feature extractor to generate embeddings for graphs"
      ]
    },
    {
      "cell_type": "code",
      "metadata": {
        "id": "odQkm1np3gGm",
        "colab_type": "code",
        "colab": {
          "base_uri": "https://localhost:8080/",
          "height": 187
        },
        "outputId": "df00498b-1200-451e-b715-284657c61934"
      },
      "source": [
        "model"
      ],
      "execution_count": 20,
      "outputs": [
        {
          "output_type": "execute_result",
          "data": {
            "text/plain": [
              "GCN(\n",
              "  (conv1): GCNConv(75, 128)\n",
              "  (bn1): BatchNorm1d(128, eps=1e-05, momentum=0.1, affine=True, track_running_stats=True)\n",
              "  (conv2): GCNConv(128, 64)\n",
              "  (bn2): BatchNorm1d(64, eps=1e-05, momentum=0.1, affine=True, track_running_stats=True)\n",
              "  (fc1): Linear(in_features=64, out_features=64, bias=True)\n",
              "  (bn3): BatchNorm1d(64, eps=1e-05, momentum=0.1, affine=True, track_running_stats=True)\n",
              "  (fc2): Linear(in_features=64, out_features=64, bias=True)\n",
              "  (fc3): Linear(in_features=64, out_features=3, bias=True)\n",
              ")"
            ]
          },
          "metadata": {
            "tags": []
          },
          "execution_count": 20
        }
      ]
    },
    {
      "cell_type": "code",
      "metadata": {
        "id": "ayi7Nu-ICqnO",
        "colab_type": "code",
        "colab": {}
      },
      "source": [
        "class GCN_feature_extractor(torch.nn.Module):\n",
        "    def __init__(self, inception, transform_input=False):\n",
        "        super(GCN_feature_extractor, self).__init__()\n",
        "        self.conv1 = GCNConv(n_features, 128, cached=False)\n",
        "        self.bn1 = BatchNorm1d(128)\n",
        "        self.conv2 = GCNConv(128, 64, cached=False)\n",
        "        self.bn2 = BatchNorm1d(64)\n",
        "        self.fc1 = Linear(64, 64)\n",
        "        self.bn3 = BatchNorm1d(64)\n",
        "        self.fc2 = Linear(64, 64)\n",
        "\n",
        "    def forward(self, data):\n",
        "        x, edge_index = data.x, data.edge_index\n",
        "        x = F.relu(self.conv1(x, edge_index))\n",
        "        x = self.bn1(x)\n",
        "        x = F.relu(self.conv2(x, edge_index))\n",
        "        x = self.bn2(x)\n",
        "        x = global_add_pool(x, data.batch)\n",
        "        x = F.relu(self.fc1(x))\n",
        "        x = self.bn3(x)\n",
        "        x = F.relu(self.fc2(x))\n",
        "        x = F.dropout(x, p=0.2, training=self.training)\n",
        "        \n",
        "        return x "
      ],
      "execution_count": 0,
      "outputs": []
    },
    {
      "cell_type": "code",
      "metadata": {
        "id": "9EIxHXWSEh3r",
        "colab_type": "code",
        "colab": {}
      },
      "source": [
        "model2 = GCN_feature_extractor(model)"
      ],
      "execution_count": 0,
      "outputs": []
    },
    {
      "cell_type": "code",
      "metadata": {
        "id": "0K95iO40JA-K",
        "colab_type": "code",
        "colab": {
          "base_uri": "https://localhost:8080/",
          "height": 170
        },
        "outputId": "78c94b3c-7dfb-4bd0-ac55-82b99ff4933f"
      },
      "source": [
        "model2"
      ],
      "execution_count": 43,
      "outputs": [
        {
          "output_type": "execute_result",
          "data": {
            "text/plain": [
              "GCN_feature_extractor(\n",
              "  (conv1): GCNConv(75, 128)\n",
              "  (bn1): BatchNorm1d(128, eps=1e-05, momentum=0.1, affine=True, track_running_stats=True)\n",
              "  (conv2): GCNConv(128, 64)\n",
              "  (bn2): BatchNorm1d(64, eps=1e-05, momentum=0.1, affine=True, track_running_stats=True)\n",
              "  (fc1): Linear(in_features=64, out_features=64, bias=True)\n",
              "  (bn3): BatchNorm1d(64, eps=1e-05, momentum=0.1, affine=True, track_running_stats=True)\n",
              "  (fc2): Linear(in_features=64, out_features=64, bias=True)\n",
              ")"
            ]
          },
          "metadata": {
            "tags": []
          },
          "execution_count": 43
        }
      ]
    },
    {
      "cell_type": "code",
      "metadata": {
        "id": "JMcOGnTr3un8",
        "colab_type": "code",
        "colab": {}
      },
      "source": [
        "def get_embeddings(test_loader):\n",
        "    embeddings = []\n",
        "    for data in train_loader:\n",
        "        outputs = model2(data)\n",
        "        for output in outputs:\n",
        "            embeddings.append(output.detach().numpy())\n",
        "\n",
        "    return embeddings"
      ],
      "execution_count": 0,
      "outputs": []
    },
    {
      "cell_type": "code",
      "metadata": {
        "id": "3_852pRv79oY",
        "colab_type": "code",
        "colab": {}
      },
      "source": [
        "embeddings = get_embeddings(test_loader)"
      ],
      "execution_count": 0,
      "outputs": []
    },
    {
      "cell_type": "code",
      "metadata": {
        "id": "Etnva2wlS6pp",
        "colab_type": "code",
        "colab": {
          "base_uri": "https://localhost:8080/",
          "height": 238
        },
        "outputId": "7062287c-ddc3-483a-b07f-856523aca865"
      },
      "source": [
        "#printing embedding for first molecule\n",
        "embeddings[0]"
      ],
      "execution_count": 125,
      "outputs": [
        {
          "output_type": "execute_result",
          "data": {
            "text/plain": [
              "array([0.        , 0.        , 0.47219217, 0.        , 0.11149442,\n",
              "       0.        , 0.74038494, 0.9845204 , 0.        , 0.        ,\n",
              "       0.08521815, 0.37342384, 0.        , 0.        , 0.        ,\n",
              "       0.        , 0.        , 0.04067358, 0.        , 0.6070059 ,\n",
              "       0.556885  , 0.        , 0.        , 0.        , 0.        ,\n",
              "       0.        , 0.320163  , 0.08434646, 0.        , 0.        ,\n",
              "       0.06690157, 0.        , 0.        , 0.        , 0.        ,\n",
              "       0.2877086 , 0.        , 0.38897985, 0.        , 0.        ,\n",
              "       0.        , 0.        , 0.        , 0.        , 0.        ,\n",
              "       0.10599753, 0.        , 0.        , 0.16044496, 0.9298236 ,\n",
              "       0.        , 0.4217041 , 0.        , 0.        , 0.2988984 ,\n",
              "       0.        , 0.        , 0.        , 0.355279  , 0.08808471,\n",
              "       0.        , 0.        , 0.81478685, 0.        ], dtype=float32)"
            ]
          },
          "metadata": {
            "tags": []
          },
          "execution_count": 125
        }
      ]
    },
    {
      "cell_type": "code",
      "metadata": {
        "id": "nq7rSIZj9clM",
        "colab_type": "code",
        "colab": {}
      },
      "source": [
        "def build_annoy_index(features, feature_size, no_of_trees):\n",
        "    if type(features) != np.ndarray:\n",
        "        features = np.asarray(features)\n",
        "    annoy_index = AnnoyIndex(feature_size, metric='angular')\n",
        "    for index, vector in tqdm(enumerate(features)):\n",
        "        annoy_index.add_item(index, vector)\n",
        "    annoy_index.build(no_of_trees)\n",
        "\n",
        "    return annoy_index"
      ],
      "execution_count": 0,
      "outputs": []
    },
    {
      "cell_type": "code",
      "metadata": {
        "id": "1rIZmJgjJWtB",
        "colab_type": "code",
        "colab": {
          "base_uri": "https://localhost:8080/",
          "height": 34
        },
        "outputId": "2cc95904-6348-4cad-da57-9f618be7098e"
      },
      "source": [
        "annoy_index = build_annoy_index(embeddings, 64, 10000)"
      ],
      "execution_count": 90,
      "outputs": [
        {
          "output_type": "stream",
          "text": [
            "1024it [00:00, 78821.20it/s]\n"
          ],
          "name": "stderr"
        }
      ]
    },
    {
      "cell_type": "markdown",
      "metadata": {
        "id": "BNnos0YFRcFG",
        "colab_type": "text"
      },
      "source": [
        "##Testing the similarity searcher"
      ]
    },
    {
      "cell_type": "code",
      "metadata": {
        "id": "H01mSs0sNBh-",
        "colab_type": "code",
        "colab": {
          "base_uri": "https://localhost:8080/",
          "height": 267
        },
        "outputId": "b522d47c-1311-4106-b675-720eec53d53f"
      },
      "source": [
        "df.loc[[1]]"
      ],
      "execution_count": 112,
      "outputs": [
        {
          "output_type": "execute_result",
          "data": {
            "text/html": [
              "<div>\n",
              "<style scoped>\n",
              "    .dataframe tbody tr th:only-of-type {\n",
              "        vertical-align: middle;\n",
              "    }\n",
              "\n",
              "    .dataframe tbody tr th {\n",
              "        vertical-align: top;\n",
              "    }\n",
              "\n",
              "    .dataframe thead th {\n",
              "        text-align: right;\n",
              "    }\n",
              "</style>\n",
              "<table border=\"1\" class=\"dataframe\">\n",
              "  <thead>\n",
              "    <tr style=\"text-align: right;\">\n",
              "      <th></th>\n",
              "      <th>ID</th>\n",
              "      <th>NAME</th>\n",
              "      <th>SOL</th>\n",
              "      <th>SOL_classification</th>\n",
              "      <th>smiles</th>\n",
              "      <th>ROMol</th>\n",
              "    </tr>\n",
              "  </thead>\n",
              "  <tbody>\n",
              "    <tr>\n",
              "      <th>1</th>\n",
              "      <td>cyclopentane</td>\n",
              "      <td>cyclopentane</td>\n",
              "      <td>-2.64</td>\n",
              "      <td>(B) medium</td>\n",
              "      <td>C1CCCC1</td>\n",
              "      <td><img data-content=\"rdkit/molecule\" src=\"data:image/png;base64,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\" alt=\"Mol\"/></td>\n",
              "    </tr>\n",
              "  </tbody>\n",
              "</table>\n",
              "</div>"
            ],
            "text/plain": [
              "             ID  ...                                              ROMol\n",
              "1  cyclopentane  ...  <img data-content=\"rdkit/molecule\" src=\"data:i...\n",
              "\n",
              "[1 rows x 6 columns]"
            ]
          },
          "metadata": {
            "tags": []
          },
          "execution_count": 112
        }
      ]
    },
    {
      "cell_type": "code",
      "metadata": {
        "id": "Q4OdkB5XMKrh",
        "colab_type": "code",
        "colab": {}
      },
      "source": [
        "distances = annoy_index.get_nns_by_vector(embeddings[1], 4, include_distances=True)"
      ],
      "execution_count": 0,
      "outputs": []
    },
    {
      "cell_type": "code",
      "metadata": {
        "id": "O96ffOVCN9Eg",
        "colab_type": "code",
        "colab": {
          "base_uri": "https://localhost:8080/",
          "height": 51
        },
        "outputId": "068679c0-db8d-4de8-f856-18ef37fe1da2"
      },
      "source": [
        "distances"
      ],
      "execution_count": 121,
      "outputs": [
        {
          "output_type": "execute_result",
          "data": {
            "text/plain": [
              "([1, 454, 199, 804],\n",
              " [0.0, 0.7308956384658813, 0.8001124858856201, 0.8143857717514038])"
            ]
          },
          "metadata": {
            "tags": []
          },
          "execution_count": 121
        }
      ]
    },
    {
      "cell_type": "code",
      "metadata": {
        "id": "JIMeI_ZfM8QF",
        "colab_type": "code",
        "colab": {
          "base_uri": "https://localhost:8080/",
          "height": 267
        },
        "outputId": "035ea992-1d10-4989-f741-c7f15865558c"
      },
      "source": [
        "df.loc[[distances[0][1]]]"
      ],
      "execution_count": 122,
      "outputs": [
        {
          "output_type": "execute_result",
          "data": {
            "text/html": [
              "<div>\n",
              "<style scoped>\n",
              "    .dataframe tbody tr th:only-of-type {\n",
              "        vertical-align: middle;\n",
              "    }\n",
              "\n",
              "    .dataframe tbody tr th {\n",
              "        vertical-align: top;\n",
              "    }\n",
              "\n",
              "    .dataframe thead th {\n",
              "        text-align: right;\n",
              "    }\n",
              "</style>\n",
              "<table border=\"1\" class=\"dataframe\">\n",
              "  <thead>\n",
              "    <tr style=\"text-align: right;\">\n",
              "      <th></th>\n",
              "      <th>ID</th>\n",
              "      <th>NAME</th>\n",
              "      <th>SOL</th>\n",
              "      <th>SOL_classification</th>\n",
              "      <th>smiles</th>\n",
              "      <th>ROMol</th>\n",
              "    </tr>\n",
              "  </thead>\n",
              "  <tbody>\n",
              "    <tr>\n",
              "      <th>454</th>\n",
              "      <td>N,N-diethylaniline</td>\n",
              "      <td>N,N-diethylaniline</td>\n",
              "      <td>-3.03</td>\n",
              "      <td>(A) low</td>\n",
              "      <td>c1ccccc1N(CC)CC</td>\n",
              "      <td><img data-content=\"rdkit/molecule\" src=\"data:image/png;base64,iVBORw0KGgoAAAANSUhEUgAAAMgAAADICAIAAAAiOjnJAAAABmJLR0QA/wD/AP+gvaeTAAAOj0lEQVR4nO3dbUxb1R8H8F+BlodNpAxEHp2MR92GwgaDqaCObEEWsxcs2fKvyXzBdLqqyVzxVfWFsSbG1GliMDFLfYkmmhpEA3NxGRvQTVg2eRxTQMbToOOhjBba839xWIfbKLelp/fe09/nHaPn3t8t3557e3rXn4IQAgj5W4jYBSA+YbAQExgsxAQGCzGBwUJMYLAQExgsxESY2AXIw5kzZ65evToyMnLkyJGcnByxy5EDgjzq7+8/cOAAAISFhQGAUql89913rVar2HVJHQZrVXNzc3q9PiIiAgA2bNhw8uTJt956KzQ0FABiY2ONRuPS0pLYNUoXBushXC5XXV1dWloaACgUiqqqqoGBAfqrzs7OvXv30sk+Nze3oaFB3FIlC4N1v7a2tpKSEhqdHTt2NDc3P/gYs9mcnp5OH1NZWdnf3x/4OiUOg3XP8PBwdXV1SEgIACQlJdXW1jqdztUebLfbjUZjdHQ0AKhUKq1WOz09HchqJQ6DRcjdlDzyyCPulMzMzAgZuDKLiYmJnrMYVDBYxGw2P/nkk+7z2o0bN7zdgsViWXn2PH/+PIs65SWog9Xe3l5aWuq+Ev/111993pSH6/3gFKTBmpyc1Gq1fl87sNls7hWKqKgovV5/586d9W9WjoIuWA6Hw2g0xsTE0NXO6urqiYkJz0NsNtvt27eF72JwcFCj0dCJMDU11WQyuVyu9VUtP8EVrMbGxqeffpr+yffs2XPt2rU1h5jN5s2bN7/55pve7uvs2bN5eXl0X2VlZR0dHT6VLFfBEqyenp7Kykr6Z87MzPz555/XHGKxWHbv3k2HFBUVORwOb3fqdDpNJtNjjz0GACEhIRqNZmxszKfy5Yf/YFmtVp1OFx4eDgAxMTEGg2FhYcHzkImJCfcV2KZNm9Z5BUYLUKlUwgvgAM/BenDCGB0d9TyEXoHRZU+lUqnVar26uvKgp6fnlVdeofNfVlaWkClT1rgN1spLnNLS0vb29jWHNDY25ubmuq/AOjs7/V6VDxd5MsVhsIaGhjQajUKhAICUlBQhb8q6u7srKiro3zs7O7u+vp5deXRSfPTRR/0+KUoKV8F6cBlpfn7e85CpqSmtVkvvtVKr1QaDwW63B6DUW7du+fEyToI4CRZd+H7iiSfcC9///POP5yGLi4u1tbXx8fHuK7Dx8fHAVOv2559/vvDCC3SmfPbZZ//4448AF8AOD8G6dOmSe12goKBAyEd1Z86c2b59Ox3y0ksvXblyJQB1rmb9H1ZKkLyDdfPmTW9vLujr66uqqqJ/xS1bttTV1QWmVM/m5+cNBgO9vSIyMlKn0wm8vUKyZBwsm80WFxcHABERER988MHs7Kznx993q7EEP8gbGho6fPgwfdtRVlYmdjnrIuNgvf/++4mJicXFxWvewOlyuUwm0+OPP06vwDQazcjISGCK9EFbW1t6enpmZubp06fFrsV3Mg7Wq6++CgA//vij54e1tbUVFxfTc9/OnTsvXLgQmPLWo6amBgA+/vhjsQvxHc//YXV4ePi1114rKiq6ePFicnKyyWRqbW11h0zK6NlQ1rj9D6vnz5/fu3fv/Px8ZGTkiRMndDrdhg0bxC4qiHAbrMLCwuTk5Ozs7FOnTrnfzKOA4TZYKpXKYrHQT05Q4PF8jSX9VBmNxs8++8zpdIpdiP9xO2PJQk1Njd1uf/vtt+mHhjzhecZCIsJgISYwWIgJDBZiAoOFmMBgISYwWIgJDBZiAoOFmMBgISYwWIgJDBZiAoOFmMBgISYwWIgJDBZiAoOFmMBgISYwWIgJDBZiAoOFmMBgISYwWIgJDBZiAoOFmMBgISYwWIgJDBZiAr8UREx9fX2EEPp9u5zhecaqr6+fmpoSuwpPUlNTabdf/nAbrKGhoYMHD2ZkZHz66acOh0PscoIOt8Gy2+3FxcVWq7WmpqagoKCpqUnsioILt8HKyMhoamoym81btmy5du1aeXl5eXl5V1eX2HUFC9kHa2ZmxsNv9+/f39XVRXtbNjU15eXlvfPOO56HSMHk5KTYJayb2F8077uffvopJycnOjra2268cXFxkm3jRvv8KpXK8vLylpYWscvxnYyDZbPZ9u3bR18eOTk5DQ0Naw65fPnyc889R4fk5+efO3cuAHUKtLS09PXXX9PuQKGhoe+9957YFa2LjINF+dAM12w2086GAFBZWfn333+zL3MNKxsNl5WVdXR0iF3Resk+WORhzXCtVqvnITabzWAwbNy4EQCioqJ0Ot2azcMYGRwc1Gg0NFICGw3LAg/BolY2w42NjRVyFbWyezRtthPIP+qDjYal1uZuPfgJFrWyGe4zzzwjpBluS0vLrl276JDCwsKLFy+yLpI2GqZr7gIbDcsOb8GivG2G63Q6TSZTQkIC3O0PPTo6yqg2i8XibaNhOeIzWMSnZrizs7N6vT48PBzutmBdcxXDKz40GpYvboNFDQ8Pu6+ikpKShPwte3t73U2jMzMz/dI02m6300VaAFCpVFqtdnp6ev2blTLOg0Xd12S1ubl5zSFNTU1bt26lQ15++eWrV6/6vHez2Zyenu4+L6/ZaJgPQREs8kBb6KqqqsHBQc9D6CqGWq2m7xkdDoe3O+3q6vJ2CZcbwRIsyodG9hMTE2+88ca3337r1Y4mJye1Wm1YWJh77WNxcXEdhctPcAWLGhgYcK9JpqammkwmP258cXGxtraWfjITFhZWXV09MTHhx+3LRTAGi/r999+3b99O4/Xiiy9euXJl/dv045WZ3AVvsMjd5av4+Hj38tX4+Lhvm1r5XjIjI8Mv7yVlLaiDRU1NTel0OpVKBQBqtdpgMNjtduHDWa9+yRQGa1l3d3dFRQWdcrKzs+vr69ccEsj1etnBYP1HY2Njbm6u+yacv/76a7VHtra2BvgTRnnBYN3vwZtwbt++vfIB4t4TIRcYrIdbeRPOpk2b6E040rmLS/owWJ5YLJaSkhJ6vsvKykpMTKQL94cOHVpz4T7IYbDWRm9ljo6ODg0Nldqd8pKlIIQAWsv169czMzPj4+NHR0fpfS/IM3yOBImKigIApVKJqRIInybEBAZLELq4gJcNwmGwEBMYLEFwxvIWBksQDJa3MFiICQyWIDhjeQuDhZjAYAmCM5a3MFiICQyWIDhjeQuDhZjAYAmCM5a3MFiCYLC8hcFCTGCTJkEUClV+/smoKKXYhcgG3kEqiNUKsbGgVoO0mz5JCJ4KBVEoAADwNSgcBgsxgcESBGcsb2GwEBMYLEFwxvIWBksQDJa3MFiICQyWIDhjeQuDhZjAYAmCM5a3MFiICQyWIDhjeQuDhZjAYAmCM5a3MFiICQyWIDhjeQvvIBUkJATS00GlErsO+cA7SBETeCpETGCw1paSAjk59y6wMjLghx9ELUgOMFiC3LgBv/0mdhGygsESZN8+OHVK7CJkBYMlyOHDcO4c9PWJXYd8YLAEiYmBw4fhyy/FrkM+MFir6uuD2tp7P2q1YDLB7Ozyj59/Dt3dotQlDxish7DZ4MMPYds2OHYMLl1a/setWyE/H06fBoUCenvhxAnYtg2OHoVbt0StVaowWP9BCJhMkJkJH30Ei4tw5Aikpd377fHj8NVXEBkJSUlw/DgQAt98A9nZ8MUXsLQkXtHSJFLXMSm6dImUlBAAAkB27iTuZrzJyaShgRBClpZIWhqJiCDff08IIZ2dZN++5cfn5JBffhGtcgnCGQsAYGQEjh6FwkK4cAGSksBkgtZWuNvx+Z7QUDh2DBYWln/MzYWGBjCbIT0duruhogL274f+/gDXLlViJ1tkDgcxGkl0NAEgSiXRasnMjNcbsdvv38j0NINaZSWog9XYSJ56avlcVllJrl9f19Zu3iTV1SQ0lACQuDhiNJKlJT8VKkNBGqzeXlJZuRyprCxSX++3LV++TJ5/fnnL+fkkaNv8Bl2w5uaIXk/CwwkAiYkhBgOx2/2/F7OZbN58by68ccP/u5C4IAqW0+n87rvZhAQCQEJCSHU1GR9nuDubjej1JCqKAJDISPLJJ2M2m43h/iQmWIJlsViKi4t37/4fACksJC0tAdrvv/8SjYYoFKSo6EBSUlJtba3T6QzQvkXFf7CGh4c1Gg39Pu3U1NS6utsuV6BraG6e3bFjB30bXlxc3NbWFugKAo7nYDkcDqPRGB0dDQAqlUqr1c74sJbgJy6Xq66uLjU1FQAUCkVVVdXAwIBYxQQAt8FqbGzMzc2lk0RlZWV/f7/YFRFCyNzcnF6vj4iIAICoqCi9Xn/nzh2xi2KCw2D19PRUVFTQSGVnZzfQj2OkZHBwUKPR0ApTUlJMJpMr8KdnxrgKltVq1el0KpUKANRqtdFoXFxcFLuoVZ09ezYvL4/Gq7S0tL29XeyK/ImTYDmdTpPJlJCQAAAhISEajWZsbEzsotb2YNmjo6NiF+UfPASrra1t191PjEtLSzs6OsSuyDt0og0PDweAjRs36vX6hYUFsYtaL3kHa+VSQnJysqwvVnp7e6uqqujLIyMjo66uTuyK1kXGwXK5XNu2bQOAyMhIvV7Px7p2Q0MDfTOblZU1Led7JGQcLIPBkJCQUFBQwNmCkMPhOHToEAC8/vrrYtfiOxnf6Dc1NTU2Nnbw4MG0lbcPy59SqSwvLweZ992UcbCw66mUYbCkiINDw2AhJmQcLI5x8JqRcbA4ePY5hsGSIg4ODYOFmMBgSREHhybjYCEpk3GwOHhZr4aDQ8NgISYwWFLEwaHJOFgcw2CJiYNnn2MYLCni4NAwWIgJDJYUcXBoMg4WkjIZB4uDl/VqODg0DBZiAoMlRRwcGgYLMSHjYHGMg9eMjIPFwbPPMQyWFHFwaBgsxAQGS4o4ODQZB4tjGCwxcfDscwyDJUUcHBoGCzEh42BFRkaq1Wr6nemcSUhI2LNnD/2+QplS4CsesSDjGQtJGQYLMYHBQkxgsBATGCzEBAYLMYHBQkxgsBAT/wfjgNsLR/wgOwAAAABJRU5ErkJggg==\" alt=\"Mol\"/></td>\n",
              "    </tr>\n",
              "  </tbody>\n",
              "</table>\n",
              "</div>"
            ],
            "text/plain": [
              "                     ID  ...                                              ROMol\n",
              "454  N,N-diethylaniline  ...  <img data-content=\"rdkit/molecule\" src=\"data:i...\n",
              "\n",
              "[1 rows x 6 columns]"
            ]
          },
          "metadata": {
            "tags": []
          },
          "execution_count": 122
        }
      ]
    },
    {
      "cell_type": "code",
      "metadata": {
        "id": "Jm-KkP5dO34T",
        "colab_type": "code",
        "colab": {
          "base_uri": "https://localhost:8080/",
          "height": 267
        },
        "outputId": "2c16e2b3-bf96-491c-f966-bb55ca8b4e99"
      },
      "source": [
        "df.loc[[distances[0][2]]]"
      ],
      "execution_count": 123,
      "outputs": [
        {
          "output_type": "execute_result",
          "data": {
            "text/html": [
              "<div>\n",
              "<style scoped>\n",
              "    .dataframe tbody tr th:only-of-type {\n",
              "        vertical-align: middle;\n",
              "    }\n",
              "\n",
              "    .dataframe tbody tr th {\n",
              "        vertical-align: top;\n",
              "    }\n",
              "\n",
              "    .dataframe thead th {\n",
              "        text-align: right;\n",
              "    }\n",
              "</style>\n",
              "<table border=\"1\" class=\"dataframe\">\n",
              "  <thead>\n",
              "    <tr style=\"text-align: right;\">\n",
              "      <th></th>\n",
              "      <th>ID</th>\n",
              "      <th>NAME</th>\n",
              "      <th>SOL</th>\n",
              "      <th>SOL_classification</th>\n",
              "      <th>smiles</th>\n",
              "      <th>ROMol</th>\n",
              "    </tr>\n",
              "  </thead>\n",
              "  <tbody>\n",
              "    <tr>\n",
              "      <th>199</th>\n",
              "      <td>2,3ﾴ,4,4ﾴ,5-PCB</td>\n",
              "      <td>2,3ﾴ,4,4ﾴ,5-PCB</td>\n",
              "      <td>-7.39</td>\n",
              "      <td>(A) low</td>\n",
              "      <td>c1cc(Cl)c(Cl)cc1c2c(Cl)cc(Cl)c(Cl)c2</td>\n",
              "      <td><img data-content=\"rdkit/molecule\" src=\"data:image/png;base64,iVBORw0KGgoAAAANSUhEUgAAAMgAAADICAIAAAAiOjnJAAAABmJLR0QA/wD/AP+gvaeTAAAQ60lEQVR4nO3de1Ab1R4H8JMQAoG0oOUhpbTlIZXykFKklNa2CrWDol616Ghv6l9itW3wTqkMznjRP6yMdiod0SnjY4ZhHB3GuX9EsJVQlNraIiUFCwVKWx7lUUggDY9ASLJ7/zjX3J0UtiHksNns7/OXbpI9P8i3u5vD5ndENE0jAFxNzHUBwDNBsAARECxABAQLEAHBAkRAsAARECxABAQLEAHBAkRAsBanYLAguj26c7aT60LcnYTrAtwajWjlbWWXqctEmT6P+DxJlnQ8/LjOouO6Lh6AYLH5ZeKXCetEbUxt31xftaE6SZbEdUW8AadCNi3Gll0rdiGE1knXHQw+yHU5fALBYuMl8qIR3P3hDAgWmy3+W+om6hBCWos2fyCf63L4RAT3Y7F7b+g9jVFjoS2fhn+qs+gqxisuTl+M941P8Uv5IOwDrqtzXxAsh5hpc9FQkVQkPbb6GNe18AMEyyFGyujf4i8Ty4zJRq5r4Qe4xgJEQLAAERAsQAQECxABwQJEQLAAEfBHaIeIaFGEOMJX5Mt1IbwB81gOMRqN/v7+MpnMaIR5LIfAqRAQAcECRECwABEQLEAEBAsQAcECRECwHDI6OooQslqter2e61r4gZfBWs4v95nN5pMnTyYnJ3t7e1ut1piYmJMnT1oslmUYmt9ot0fR1KH+Q7u7d+/o2tFqbMUbX+99vWOmg/TQP/30U2xsLP5F7dq1Kz09Hf93UlJSfX096dF5jQfBOm04vb9nP03TvabestEyvJF0sLq6up555hkco9jY2OrqarxdpVJFRUXh7Tk5OTdv3iRXA6/xIFgfD3/8re5bu43kgqXX6wsLC6VSKUIoMDCwpKTEZDIxn2AymUpLS1euXIkQkkqlSqXSYDCQqITXeBCsT+588o3uG7uNtmBRNOWqgaxWa0VFRUhICEJILBYrFIqRkZGFnjw4OJiXlycWixFCYWFh5eXlVqvVVZV4AB4Eq2Gy4dVbr9I0PWoeVd5W4o04WBbKsqVzS/FQsdFqXOIo9fX1jz76qO1yqqWlhfkoRc0f36ampm3btuFXpaamnj9/folleAweBIum6aLBoj3dezKvZ2qmNbWG2n09+6Laop698ey+nn2oGaFmtP7q+qrxKud23t/fr1AocDgiIiIqKiqYj1IUVVFRERcXp9Vq5305RVFVVVVr165FCIlEotzc3L6+Pucq8ST8CBaL3yZ/S76WjOO1pXPLpalLjr92enq6uLjY19cXIeTn51dcXDwzM8N8wvnz5zdv3owzd/z48aXsSmh4Hyyapi2U5ZT2VHBrMGpGXhqvvL68Ud0o+0vue5gZGBhQKBQikQghFB4eXlFRsdDZkIn94CconhAsTG/RFw4U+mh8Mn7NkMvlxcXFs7Oz8z6zqakpIyPDdmF04cIF5qNGo7GkpEQulyOEZDJZYWHhxMTEoir59ddfWS7XBMJzgoV1znS+9s5r+E3dsGFDTU0N81HmR7nVq1ff+1FOpVKtX7/eNk1169Yt58pY1AdMj+RpwcLUanV8fDzOR1ZWVltbG558WrFixUKTTxqN5vHHH8cv2bRpU0NDw9LLuO+UmAfzzGDRND03N3fixInAwECEkEQiCQoKwqF56aWX7I5DOp1OqVR6eXkhhFatWlVaWmqxWFxYybVr1/bs2YNHj4uLu3v3rgt37rY8NljY2NiYUqmUSCQhISExMTFnzpxhPjo3N1daWhoQEIAQ8vb2ViqV5N51tVodExMTHR39xRdfEBrCrXh4sLDExESE0J9//sncqFarN27caDtdtre3ky6juroaIfTUU0+RHsgdCOJ7hd7e3gghfM2O6XS6F198cXJyMi4u7rPPPrOdqoiSSATx28YE9KMyBQUFHTt2zGq1vv322zh2wLUEGiyE0KFDh0gPUVVVVV1d/corr9juwBEOXt5ByhfNzc2VlZVtbW1cF8IBCBYgAoIFiIBgASIgWIAICBYgAoIFiIBgASIgWIAICBYgAoIFiIBgASIgWIAICBYgAoIFiIBgASIgWIAICBZBkZGR27ZtW7NmDdeFcEC4tyb/+OOPUqn0ueeeIzfEgQMHDhw4QG7/7kygR6yJiYnDhw8///zzmZmZV69e5bocDyTQYPn5+X344YfBwcH19fUpKSlvvvmmVqvluijPwvUXG5dDfn5+aGhoRkaG3bdSx8fH8fekEUIPPPBAaWmp2WwmVENHR0dGRkZERMT7779PaAi3IohgDQwM2HrRHj161K4dSEdHR3Z2Nv5n9sgjj/z888+uHV2r1b711lu4N0RISAj0bvAo9+38oVKpoqOjcbxycnJu3Lix9EHNZnN5eTnuRyKRSPLy8hbqN+l5hBIsrLm5mdmr6Ny5c8xHcY8QfGzDPUKW0me7rq4uISEBj5WZmfnXX38tuXw+EVawMLvuaj09PcxHh4aGlthn+/r167m5uXj/MTExVVVOdt3lNSEGi56vH+Tk5CTzCZcvX7b12d68efPvv//uyG6npqaKi4t9fHwQQv7+/iztKj2eQIOFsXewpSiqsrIyPDwcISQSib788kuWXeHekKGhofjJCoVieHiY/E/gvgQdLKyxsdG2+lJaWtrFixeZj+I+2w8++GBvb69zexAmCBZN/71KwEMPPbTQ8WZqamreFzrXtVsIIFj/t6grpOnpafarNIGDYNnr7u6+72c69s+VgIZgLaSurg53LkUIPfnkk7ZZKOZMWEpKit1MGLCBYC0Iz5sHBwfjefP9+/e/8cYb5Lp2exgI1n3YGnqLxWKRSES6a7fHENE07fytEYLR1NSUlpbm7e3d3t7+8MMPc10OD0CwHGI0Gv39/WUymdFo5LoWfhDojX6ANAgWIAKCBYiAYAEiIFiACAgWIAKCBYiAYAEiIFiACAgWIAKCBYiAYAEiIFiACAgWIAKCBYiAYAEiIFiACAgWIAKCBYiAYAEiIFiACAgWIAKCBYiAYDnk2rVrCCGLxdLd3c11LfzAy2AVDBZEt0d3znYuw1h6vT4/P3/r1q1isdhiscTHx+fn5xsMhmUYmt+4/o7//VE0daj/0O7u3Tu6drQaW/HG13tf75jpIDou7v4ITUGcw4NgnTac3t+zn6bpXlNv2WgZ3kg6WPX19UlJSfjfHrONkUaj2bFjB94eFxd35swZcjXwGg+C9fHwx9/qvrXbSC5Y/f39CoUCR4el8VpkZCR+Tk5Ozs2bN0lUwms8CNYndz75RveN3UZbsEyUyVUD4T62vr6+6O9WkTMzMws9GTf0XrFiBUJIKpUucbUBz8ODYDVMNrx661WapkfNo8rbSrwRB8tEmTa2b8zryxs1jy5lCIqiqqqq1q5dixASiUS5ubn9/f3MJyzU3HZwcHCJqw14Kh4Ei6bposGiPd17Mq9naqY1tYbafT37otqinr3x7D97/uml8ULNaFXrqrLRMjPlzNpdzLUCUlNTL1y4wHwUN7ENDg5maTTa1NTkxGoDno0fwWLRMdOR3Z2NmhFqRhvaN9TcrXH8tczVTVavXm13vKEo6vvvv4+IiMCHsbKyMpZd4WPeunXrbMc8lr7wQsD7YGH/0f8nui0ax+sfN/7RfbOb/fnM9ZjmvULSaDTMJrYOHoTwVZpMJkMI+fn5CblHt4cEi6bpOWqudKR0ZcvK7bXb2TuFqtXquLi4hT7TMRegCwoKcmK+6vbt27CqgOcECxueGz7878P47BYaGvrVV18xz26dnZ1PP/00jtS9a17iw1hAQAByxbJyly5dYq6D8scffzj/U/GQpwULs1uXsKGhQa/XFxYWSqVStMAqvWq1Oj4+Hr8kKyvLbpFf5+C5e5aVVDyYZwaLpmmKon744Qc8g4DnpfBfZg4ePDg2NsZ8JnN5wdjY2OrqatdWYjAYjh49ijMdGBg4Pj7u2v27J48NFoanMWUyWWhoaHp6emtrK/PRyclJ2+I5gYGBJSUlJpPLplvtdHd37969Ozw8vKCggNAQbsXDg4WlpaUhhJirveHlvvDygmKxWKFQjIyMkC7j7Nmz+C+PpAdyBxInbojgHXwtzzQ5Ofnuu++OjIzs3LmztLQ0OTl5GcrAnxNpYTTWF0Sw7n1HV65cWVZWRlHUyy+/zF1dnoyXN/q5xN69e0mn6tSpU6mpqV9//TXRUdyTcIO1DIaHh5ubm4eGhvD/CupUKIhgCeoddROCCBZX7AItqHwLIliCekfdhCCCxS04YnksQb2jbkIQweIKDrQwQbCWj6AOnIIIFlfvqKCSZEcQwXITgsqZIIIFR6zlJ4hguQlB5QyCBYgQRLDgVLj8BBEsNyGonAkiWHDEWn6CCJabEFTOBBEsrt7RlJSUvLy81NTUZR7XHQjinvd5VVZWarXaw4cPe3t7ExoiOzs7Ozub0M7dnCCOWPeampoqKCg4cuRIYmJiTU3N8gwKp0JPg99Rq9Vq2yKXy7/77ruEhISurq6cnJysrKyrV6+SLsNisSCETCYT6YHcwrJ9g5FDJ06ciIyMjIqKurcLSHl5eVBQEEJIIpHk5eWNji6pMyALtVodGxsbEhIiFotzc3P7+voIDeQmBBGs8fFxWy/aF154wa5v0djYmFKplEgkaIF+IUvEbHETFhaGmzjI5fKPPvqIpccp3wkiWDRNm0wmW6e1eVsUdXR02C60N2zYUFOziM6AC5m3NwSzK/OaNWs8tXuWUIKF4d6QLE3VVCpVdHQ0fteX0swINzBi6Q3B7CO/N3/vFeMV538qtySsYGGXL1/evn07flNTUlLOnTvHfJTZRZK9M+BCGhsbbS3Xdu7ceeXK/KGxhS/tfJq4WazoUdyZu+P8T+VmhBgsTKVSrV+/Hr/9OTk5dk2RtVqtrWGk4wucDAwM2JpEOnia0xv0/7r9L2+NN2pGAS0Bx+8cd2Hneg4JN1j036225XI5QkgmkxUWFk5MTDCfwDy2FRUVsewKN+LCu3Kire312eu5t3Jxc96Ytpiq8XmWw+AXQQcLYx5m5u1Fq1KpNm7cyNJe224FFJaO8OxOG07HtcfheFXfdXFjwWUGwfqfxsbGrVu34nA89thjdssILHRGu3Llim3Npk2bNtldrjkB937Oup5lpe1XuDgycCSqLYr0mmeuAsH6P9zmz9aLln0aE89+kVtljqvF9FwFgmVvamqKfakms9lsm6937mOjIzhZTM+FIFjzY05jRkRE2C686urqEhISbBNdbW1thApY5sX0XA6Cxebs2bOJiYk4Runp6U888YRrp+ZZsC+m5/4gWPeBpzHxH499fHzkcnlxcfHs7CzpcVkW0yM9tEuIaGHcHrREer0+LCzMZDL19PTYplVJe2/oPY1RY6Etn4Z/qrPoKsYrLk5fjPeNT/FL+SDsg+WpwWkQLEfJ5fLp6empqSm8yAVgJ4gb/VxCUPd/Lh0ECxABwXIUHLEWBYIFiIBgASIgWI6CU+GiCPcLq4sVfi48gA6gZRAsh0CwHDWEhgyUAQ7xDoLfEyACguUoERIhhGgEp0KHQLAAERAsQAQEy1FwKlwUCBYgAqYbHPVOyDtGyugj8uG6EH6A+7EAEXAqXJyCwYLo9ujO2U6uC3F3cCpkQyNaeVvZZeoyUabPIz5PkiUdDz+us+i4rosHIFhsfpn4ZcI6URtT2zfXV22oTpIlcV0Rb8CpkE2LsWXXil0IoXXSdQeDD3JdDp9AsNh4ibxg4so5ECw2W/y31E3UIYS0Fm3+QD7X5fAJTDfcB6+/3MchCBYgAk6FgAgIFiACggWIgGABIiBYgAgIFiACggWIgGABIv4LEkEnMs4thHgAAAAASUVORK5CYII=\" alt=\"Mol\"/></td>\n",
              "    </tr>\n",
              "  </tbody>\n",
              "</table>\n",
              "</div>"
            ],
            "text/plain": [
              "                  ID  ...                                              ROMol\n",
              "199  2,3ﾴ,4,4ﾴ,5-PCB  ...  <img data-content=\"rdkit/molecule\" src=\"data:i...\n",
              "\n",
              "[1 rows x 6 columns]"
            ]
          },
          "metadata": {
            "tags": []
          },
          "execution_count": 123
        }
      ]
    },
    {
      "cell_type": "code",
      "metadata": {
        "id": "sLjM4IwNO9B5",
        "colab_type": "code",
        "colab": {
          "base_uri": "https://localhost:8080/",
          "height": 267
        },
        "outputId": "2ead0f0b-357b-433f-f5c7-33e072eb959c"
      },
      "source": [
        "df.loc[[distances[0][3]]]"
      ],
      "execution_count": 124,
      "outputs": [
        {
          "output_type": "execute_result",
          "data": {
            "text/html": [
              "<div>\n",
              "<style scoped>\n",
              "    .dataframe tbody tr th:only-of-type {\n",
              "        vertical-align: middle;\n",
              "    }\n",
              "\n",
              "    .dataframe tbody tr th {\n",
              "        vertical-align: top;\n",
              "    }\n",
              "\n",
              "    .dataframe thead th {\n",
              "        text-align: right;\n",
              "    }\n",
              "</style>\n",
              "<table border=\"1\" class=\"dataframe\">\n",
              "  <thead>\n",
              "    <tr style=\"text-align: right;\">\n",
              "      <th></th>\n",
              "      <th>ID</th>\n",
              "      <th>NAME</th>\n",
              "      <th>SOL</th>\n",
              "      <th>SOL_classification</th>\n",
              "      <th>smiles</th>\n",
              "      <th>ROMol</th>\n",
              "    </tr>\n",
              "  </thead>\n",
              "  <tbody>\n",
              "    <tr>\n",
              "      <th>804</th>\n",
              "      <td>Phthalic_Anhydride</td>\n",
              "      <td>Phthalic_Anhydride</td>\n",
              "      <td>-1.39</td>\n",
              "      <td>(B) medium</td>\n",
              "      <td>O=C(OC(=O)c1cccc2)c12</td>\n",
              "      <td><img data-content=\"rdkit/molecule\" src=\"data:image/png;base64,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\" alt=\"Mol\"/></td>\n",
              "    </tr>\n",
              "  </tbody>\n",
              "</table>\n",
              "</div>"
            ],
            "text/plain": [
              "                     ID  ...                                              ROMol\n",
              "804  Phthalic_Anhydride  ...  <img data-content=\"rdkit/molecule\" src=\"data:i...\n",
              "\n",
              "[1 rows x 6 columns]"
            ]
          },
          "metadata": {
            "tags": []
          },
          "execution_count": 124
        }
      ]
    }
  ]
}